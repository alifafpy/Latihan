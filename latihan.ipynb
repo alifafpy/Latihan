{
 "cells": [
  {
   "cell_type": "code",
   "execution_count": 1,
   "id": "9f00149b",
   "metadata": {},
   "outputs": [
    {
     "name": "stdout",
     "output_type": "stream",
     "text": [
      "Saya Alifa\n"
     ]
    }
   ],
   "source": [
    "print('Saya Alifa')"
   ]
  },
  {
   "cell_type": "code",
   "execution_count": 2,
   "id": "6bd69af9",
   "metadata": {},
   "outputs": [
    {
     "name": "stdout",
     "output_type": "stream",
     "text": [
      "Nama saya Alifa Fitriana Putri Yuaswan\n"
     ]
    }
   ],
   "source": [
    "print('Nama saya Alifa Fitriana Putri Yuaswan')"
   ]
  },
  {
   "cell_type": "code",
   "execution_count": 4,
   "id": "2d534342",
   "metadata": {},
   "outputs": [
    {
     "name": "stdout",
     "output_type": "stream",
     "text": [
      "Saya lahir di Bandung, Jawa Barat\n"
     ]
    }
   ],
   "source": [
    "print ('Saya lahir di Bandung, Jawa Barat')"
   ]
  },
  {
   "cell_type": "code",
   "execution_count": 6,
   "id": "52d7dc12",
   "metadata": {},
   "outputs": [
    {
     "name": "stdout",
     "output_type": "stream",
     "text": [
      "43\n",
      "100000\n",
      "4300000\n"
     ]
    }
   ],
   "source": [
    "mahasiswa = 43\n",
    "uang_di_dompet = 100000\n",
    "print(mahasiswa)\n",
    "print(uang_di_dompet)\n",
    "print(mahasiswa * uang_di_dompet)"
   ]
  },
  {
   "cell_type": "code",
   "execution_count": 9,
   "id": "cd754d78",
   "metadata": {},
   "outputs": [
    {
     "name": "stdout",
     "output_type": "stream",
     "text": [
      "Alifa Fitriana Putri Yuaswan\n"
     ]
    }
   ],
   "source": [
    "nama_depan = 'Alifa Fitriana'\n",
    "nama_tengah = 'Putri'\n",
    "nama_belakang = 'Yuaswan'\n",
    "print(nama_depan + ' ' + nama_tengah + ' ' + nama_belakang)"
   ]
  },
  {
   "cell_type": "code",
   "execution_count": 11,
   "id": "ea58564a",
   "metadata": {},
   "outputs": [
    {
     "data": {
      "text/plain": [
       "'Alifa FitrianaPutriYuaswan'"
      ]
     },
     "execution_count": 11,
     "metadata": {},
     "output_type": "execute_result"
    }
   ],
   "source": [
    "nama_depan + nama_tengah + nama_belakang"
   ]
  },
  {
   "cell_type": "code",
   "execution_count": 22,
   "id": "aaa97b92",
   "metadata": {},
   "outputs": [
    {
     "name": "stdout",
     "output_type": "stream",
     "text": [
      "Siapakah nama anda? Alifa\n",
      "Apa kegiatan anda saat ini, Alifa? belajar\n",
      "Semangat belajarnya ya, Alifa!!\n"
     ]
    }
   ],
   "source": [
    "nama = input('Siapakah nama anda? ')\n",
    "kegiatan = input('Apa kegiatan anda saat ini, ' + nama + '? ')\n",
    "print('Semangat '+ kegiatan +'nya ya, '+ nama + '!!')"
   ]
  },
  {
   "cell_type": "code",
   "execution_count": 28,
   "id": "b5f33c80",
   "metadata": {},
   "outputs": [
    {
     "name": "stdout",
     "output_type": "stream",
     "text": [
      "Berapakah uang di dompet anda? 1000\n",
      "Berapakah jumlah uang anda di bank saat ini? 2000\n",
      "Total uang anda adalah Rp10002000\n"
     ]
    }
   ],
   "source": [
    "uang_di_dompet = input('Berapakah uang di dompet anda? ')\n",
    "uang_di_bank = input('Berapakah jumlah uang anda di bank saat ini? ')\n",
    "print('Total uang anda adalah Rp'+ uang_di_dompet + uang_di_bank)"
   ]
  },
  {
   "cell_type": "code",
   "execution_count": 35,
   "id": "c690d6c5",
   "metadata": {},
   "outputs": [
    {
     "name": "stdout",
     "output_type": "stream",
     "text": [
      "Berapakah uang di dompet anda? 1000\n",
      "Berapakah jumlah uang anda di bank saat ini? 3000\n",
      "Total uang anda adalah Rp4000\n"
     ]
    }
   ],
   "source": [
    "uang_di_dompet = input('Berapakah uang di dompet anda? ')\n",
    "uang_di_bank = input('Berapakah jumlah uang anda di bank saat ini? ')\n",
    "total_uang = int(uang_di_dompet) + int(uang_di_bank)\n",
    "print('Total uang anda adalah Rp'+ str(total_uang))"
   ]
  },
  {
   "cell_type": "code",
   "execution_count": 30,
   "id": "48fc60f2",
   "metadata": {},
   "outputs": [
    {
     "name": "stdout",
     "output_type": "stream",
     "text": [
      "Berapakah uang di dompet anda? 1000\n",
      "Berapakah jumlah uang anda di bank saat ini? 4000\n",
      "Total uang anda adalah Rp5000\n"
     ]
    }
   ],
   "source": [
    "uang_di_dompet = int(input('Berapakah uang di dompet anda? '))\n",
    "uang_di_bank = int(input('Berapakah jumlah uang anda di bank saat ini? '))\n",
    "print('Total uang anda adalah Rp'+ str(uang_di_dompet + uang_di_bank))"
   ]
  },
  {
   "cell_type": "code",
   "execution_count": 33,
   "id": "9b1ea4a6",
   "metadata": {},
   "outputs": [
    {
     "data": {
      "text/plain": [
       "int"
      ]
     },
     "execution_count": 33,
     "metadata": {},
     "output_type": "execute_result"
    }
   ],
   "source": [
    "type(uang_di_dompet)"
   ]
  },
  {
   "cell_type": "code",
   "execution_count": 32,
   "id": "4acc7fe7",
   "metadata": {},
   "outputs": [
    {
     "data": {
      "text/plain": [
       "(int, int, int)"
      ]
     },
     "execution_count": 32,
     "metadata": {},
     "output_type": "execute_result"
    }
   ],
   "source": [
    "type(uang_di_dompet), type(uang_di_bank), type(total_uang)"
   ]
  },
  {
   "cell_type": "code",
   "execution_count": 27,
   "id": "800f89c0",
   "metadata": {},
   "outputs": [
    {
     "name": "stdout",
     "output_type": "stream",
     "text": [
      "Masukkan bilangan pertama: 2\n",
      "Masukkan bilangan kedua: 3.5\n",
      "Jumlah dari kedua bilangan adalah 5.5\n"
     ]
    }
   ],
   "source": [
    "bilangan_kesatu = input('Masukkan bilangan pertama: ')\n",
    "bilangan_kedua = input('Masukkan bilangan kedua: ')\n",
    "jumlah = float(bilangan_kesatu) + float(bilangan_kedua)\n",
    "print('Jumlah dari kedua bilangan adalah '+ str(jumlah))"
   ]
  },
  {
   "cell_type": "code",
   "execution_count": 38,
   "id": "5c20d435",
   "metadata": {},
   "outputs": [
    {
     "name": "stdout",
     "output_type": "stream",
     "text": [
      "Alifa adalah mahasiswa di Universitas Udayana.\n"
     ]
    }
   ],
   "source": [
    "nama = 'Alifa'\n",
    "pekerjaan = 'mahasiswa'\n",
    "institusi = 'Universitas Udayana'\n",
    "print(nama + ' adalah ' + pekerjaan + ' di ' + institusi + '.')"
   ]
  },
  {
   "cell_type": "code",
   "execution_count": 39,
   "id": "b6967a72",
   "metadata": {},
   "outputs": [
    {
     "name": "stdout",
     "output_type": "stream",
     "text": [
      "Alifa adalah seorang mahasiswa di Universitas Udayana .\n"
     ]
    }
   ],
   "source": [
    "print(f'{nama} adalah seorang {pekerjaan} di {institusi} .')"
   ]
  },
  {
   "cell_type": "code",
   "execution_count": 40,
   "id": "ca6693f7",
   "metadata": {},
   "outputs": [
    {
     "name": "stdout",
     "output_type": "stream",
     "text": [
      " kelas algori\n"
     ]
    }
   ],
   "source": [
    "kelas = 'ini kelas algoritma'\n",
    "print(kelas[3:-3])"
   ]
  },
  {
   "cell_type": "code",
   "execution_count": 41,
   "id": "e96f1036",
   "metadata": {},
   "outputs": [
    {
     "name": "stdout",
     "output_type": "stream",
     "text": [
      " ali\n"
     ]
    }
   ],
   "source": [
    "print(kelas[3:-3:4])"
   ]
  },
  {
   "cell_type": "code",
   "execution_count": null,
   "id": "b5d9e8b0",
   "metadata": {},
   "outputs": [],
   "source": []
  }
 ],
 "metadata": {
  "kernelspec": {
   "display_name": "Python 3 (ipykernel)",
   "language": "python",
   "name": "python3"
  },
  "language_info": {
   "codemirror_mode": {
    "name": "ipython",
    "version": 3
   },
   "file_extension": ".py",
   "mimetype": "text/x-python",
   "name": "python",
   "nbconvert_exporter": "python",
   "pygments_lexer": "ipython3",
   "version": "3.9.13"
  }
 },
 "nbformat": 4,
 "nbformat_minor": 5
}
