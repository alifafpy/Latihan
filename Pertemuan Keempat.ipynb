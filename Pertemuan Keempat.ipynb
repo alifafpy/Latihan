{
 "cells": [
  {
   "cell_type": "markdown",
   "id": "2a890002",
   "metadata": {},
   "source": [
    "# 5.11 While"
   ]
  },
  {
   "cell_type": "code",
   "execution_count": 2,
   "id": "89d9abab",
   "metadata": {},
   "outputs": [],
   "source": [
    "##Deklarasi variabel data\n",
    "\n",
    "a = 0"
   ]
  },
  {
   "cell_type": "code",
   "execution_count": 3,
   "id": "86d3b987",
   "metadata": {},
   "outputs": [
    {
     "name": "stdout",
     "output_type": "stream",
     "text": [
      "Angka 0 masih di bawah 5\n",
      "Angka 1 masih di bawah 5\n",
      "Angka 2 masih di bawah 5\n",
      "Angka 3 masih di bawah 5\n",
      "Angka 4 masih di bawah 5\n"
     ]
    }
   ],
   "source": [
    "while a < 5:\n",
    "    print('Angka ' + str(a) + ' masih di bawah 5')\n",
    "    a += 1\n",
    "\n",
    "##Saat kondisi terpenuhi maka program akan jalan, jika tidak terpenuhi tidak akan jalan"
   ]
  },
  {
   "cell_type": "code",
   "execution_count": 4,
   "id": "b78e03be",
   "metadata": {},
   "outputs": [],
   "source": [
    "x = 0\n",
    "while x > 2:\n",
    "    y = x**2\n",
    "    x = x - 1\n",
    "    \n",
    "##Nilai x = 0 tidak memenuhi syarat dari kondisi while nya"
   ]
  },
  {
   "cell_type": "code",
   "execution_count": null,
   "id": "42db1e69",
   "metadata": {},
   "outputs": [],
   "source": [
    "print(x)\n",
    "\n",
    "##Output = 0 karena x tidak memenuhi syarat dari while, sehingga outputnya adalah 0 dimana 0 merupakan nilai asli sebelum di eksekusi"
   ]
  },
  {
   "cell_type": "code",
   "execution_count": 5,
   "id": "1005d5ab",
   "metadata": {},
   "outputs": [
    {
     "name": "stdout",
     "output_type": "stream",
     "text": [
      "\n",
      "*\n",
      "**\n",
      "***\n",
      "****\n"
     ]
    }
   ],
   "source": [
    "n = 0\n",
    "while n < 5:\n",
    "    print(n * '*')\n",
    "    n += 1\n",
    "    \n",
    "##Terdapat increment n += 1 sehingga setiap n memenuhi kondisi akan ditambah 1 sampai tidak memenuhi lagi"
   ]
  },
  {
   "cell_type": "code",
   "execution_count": null,
   "id": "70b7c2fb",
   "metadata": {},
   "outputs": [],
   "source": [
    "x = 0\n",
    "while x < 2:\n",
    "    y = x ** 2\n",
    "    ##print(y)\n",
    "    x = x - 1\n",
    "    ##print(x)\n",
    "    \n",
    "##Tidak diekseukasi karena outputnya akan terus mengecil dengan nilai minus\n",
    "##Meskipun memenuhi tapi tidak ada output yang ditampilkan\n",
    "\n",
    "##Apabila diletakkan print di dalam while, program akan terus menampilkan output dengan hasil tak hingga (terus melakukan running)"
   ]
  },
  {
   "cell_type": "code",
   "execution_count": null,
   "id": "bb00e27c",
   "metadata": {},
   "outputs": [],
   "source": [
    "##### print(y), print(x) \n",
    "\n",
    "##Program akan terus melakukan running karena nilainya selalu minus dan makin mengecil"
   ]
  },
  {
   "cell_type": "markdown",
   "id": "13796409",
   "metadata": {},
   "source": [
    "# 5.12 List di Python"
   ]
  },
  {
   "cell_type": "code",
   "execution_count": 1,
   "id": "b9490d90",
   "metadata": {},
   "outputs": [
    {
     "name": "stdout",
     "output_type": "stream",
     "text": [
      "['mangga', 'pisang', 'rambutan', 'durian']\n"
     ]
    }
   ],
   "source": [
    "buah = ['mangga', 'pisang', 'rambutan', 'durian']\n",
    "print(buah)"
   ]
  },
  {
   "cell_type": "code",
   "execution_count": 2,
   "id": "2ebecd62",
   "metadata": {},
   "outputs": [
    {
     "name": "stdout",
     "output_type": "stream",
     "text": [
      "mangga\n"
     ]
    }
   ],
   "source": [
    "##Memanggil atau menampilkan objek dengan index ke 0\n",
    "\n",
    "print(buah[0])"
   ]
  },
  {
   "cell_type": "code",
   "execution_count": 3,
   "id": "c2677ec6",
   "metadata": {},
   "outputs": [
    {
     "name": "stdout",
     "output_type": "stream",
     "text": [
      "rambutan\n"
     ]
    }
   ],
   "source": [
    "##Memanggil atau menampilkan objek dengan index ke 2\n",
    "\n",
    "print(buah[2])"
   ]
  },
  {
   "cell_type": "code",
   "execution_count": 4,
   "id": "70271f16",
   "metadata": {},
   "outputs": [
    {
     "name": "stdout",
     "output_type": "stream",
     "text": [
      "durian\n"
     ]
    }
   ],
   "source": [
    "##Memanggil atau menampilkan objek dengan index ke -1\n",
    "\n",
    "print(buah[-1])"
   ]
  },
  {
   "cell_type": "code",
   "execution_count": 5,
   "id": "5fe6bdcf",
   "metadata": {},
   "outputs": [
    {
     "name": "stdout",
     "output_type": "stream",
     "text": [
      "['salak', 'pisang', 'rambutan', 'durian']\n"
     ]
    }
   ],
   "source": [
    "##Mengubah data list pada index ke 0\n",
    "\n",
    "buah[0] = 'salak'\n",
    "print(buah)"
   ]
  },
  {
   "cell_type": "code",
   "execution_count": 6,
   "id": "e3f483f8",
   "metadata": {},
   "outputs": [
    {
     "name": "stdout",
     "output_type": "stream",
     "text": [
      "['salak', 'pisang', 'rambutan']\n"
     ]
    }
   ],
   "source": [
    "##Memanggil atau menampilkan index ke 0 sampai sebelum index ke 3 (sampai index ke 2)\n",
    "\n",
    "print(buah[0:3])"
   ]
  },
  {
   "cell_type": "code",
   "execution_count": 7,
   "id": "97092a99",
   "metadata": {},
   "outputs": [
    {
     "name": "stdout",
     "output_type": "stream",
     "text": [
      "['salak', 'pisang', 'rambutan', 'durian']\n"
     ]
    }
   ],
   "source": [
    "##Tidak merubah data list yang ada\n",
    "\n",
    "print(buah)"
   ]
  },
  {
   "cell_type": "code",
   "execution_count": 8,
   "id": "ffd61d48",
   "metadata": {},
   "outputs": [],
   "source": [
    "vektor_1 = [1, 2, 3, 4]"
   ]
  },
  {
   "cell_type": "code",
   "execution_count": 9,
   "id": "ba81c395",
   "metadata": {},
   "outputs": [],
   "source": [
    "vektor_2 = [5, 6, 7, 8]"
   ]
  },
  {
   "cell_type": "code",
   "execution_count": 10,
   "id": "91b3f0d1",
   "metadata": {},
   "outputs": [],
   "source": [
    "##Menambahkan 2 data list\n",
    "\n",
    "vektor = vektor_1 + vektor_2"
   ]
  },
  {
   "cell_type": "code",
   "execution_count": 11,
   "id": "99584815",
   "metadata": {},
   "outputs": [
    {
     "name": "stdout",
     "output_type": "stream",
     "text": [
      "[1, 2, 3, 4, 5, 6, 7, 8]\n"
     ]
    }
   ],
   "source": [
    "print(vektor)"
   ]
  },
  {
   "cell_type": "code",
   "execution_count": 13,
   "id": "75c2ad8c",
   "metadata": {},
   "outputs": [
    {
     "name": "stdout",
     "output_type": "stream",
     "text": [
      "6\n"
     ]
    }
   ],
   "source": [
    "print(vektor[-3])"
   ]
  },
  {
   "cell_type": "markdown",
   "id": "5fbde459",
   "metadata": {},
   "source": [
    "# 5.13 Metoda List"
   ]
  },
  {
   "cell_type": "code",
   "execution_count": 14,
   "id": "69098347",
   "metadata": {},
   "outputs": [
    {
     "name": "stdout",
     "output_type": "stream",
     "text": [
      "['Alifa', 'Fitriana', 'Putri', 'Yuaswan', 'Diska']\n"
     ]
    }
   ],
   "source": [
    "nama = ['Alifa', 'Fitriana', 'Putri', 'Yuaswan']\n",
    "\n",
    "##Append = untuk menambahkan data\n",
    "nama.append('Diska')\n",
    "print(nama)"
   ]
  },
  {
   "cell_type": "code",
   "execution_count": 15,
   "id": "b50c147a",
   "metadata": {},
   "outputs": [
    {
     "name": "stdout",
     "output_type": "stream",
     "text": [
      "['Serly', 'Alifa', 'Fitriana', 'Putri', 'Yuaswan', 'Diska']\n"
     ]
    }
   ],
   "source": [
    "##Menambahkan data sesuai dengan index yang diinginkan\n",
    "\n",
    "nama.insert(0, 'Serly')\n",
    "print(nama)"
   ]
  },
  {
   "cell_type": "code",
   "execution_count": 16,
   "id": "626ad560",
   "metadata": {},
   "outputs": [
    {
     "name": "stdout",
     "output_type": "stream",
     "text": [
      "['Serly', 'Alifa', 'Putri', 'Yuaswan', 'Diska']\n"
     ]
    }
   ],
   "source": [
    "##Menghapus atau menghilangkan data list\n",
    "\n",
    "nama.remove('Fitriana')\n",
    "print(nama)"
   ]
  },
  {
   "cell_type": "code",
   "execution_count": 17,
   "id": "670f97be",
   "metadata": {},
   "outputs": [
    {
     "name": "stdout",
     "output_type": "stream",
     "text": [
      "True\n"
     ]
    }
   ],
   "source": [
    "##Mencari apakah objek ada atau tidak di dalam data list\n",
    "##Jika ada maka akan bernilai True, jika tidak maka akan bernilai False\n",
    "\n",
    "print('Alifa' in nama)"
   ]
  },
  {
   "cell_type": "code",
   "execution_count": 18,
   "id": "fb0dd2fd",
   "metadata": {},
   "outputs": [
    {
     "name": "stdout",
     "output_type": "stream",
     "text": [
      "False\n"
     ]
    }
   ],
   "source": [
    "print('Intan' in nama)"
   ]
  },
  {
   "cell_type": "code",
   "execution_count": 19,
   "id": "bf920cb3",
   "metadata": {},
   "outputs": [
    {
     "name": "stdout",
     "output_type": "stream",
     "text": [
      "5\n"
     ]
    }
   ],
   "source": [
    "##Untuk mencari atau menampilkan jumlah objek yang ada dalam data list\n",
    "\n",
    "print(len(nama))"
   ]
  },
  {
   "cell_type": "markdown",
   "id": "7d32a6b4",
   "metadata": {},
   "source": [
    "# 5.13 Foor Loop"
   ]
  },
  {
   "cell_type": "code",
   "execution_count": 20,
   "id": "2cf9bbde",
   "metadata": {},
   "outputs": [],
   "source": [
    "##Index objek dari data list dimulai dari 0\n",
    "\n",
    "buah = ['apel', 'anggur', 'nanas', 'alpukat']"
   ]
  },
  {
   "cell_type": "code",
   "execution_count": 21,
   "id": "948719eb",
   "metadata": {},
   "outputs": [
    {
     "name": "stdout",
     "output_type": "stream",
     "text": [
      "apel\n",
      "anggur\n",
      "nanas\n",
      "alpukat\n"
     ]
    }
   ],
   "source": [
    "##Menampilkan data list menggunakan for loop\n",
    "\n",
    "for jenis in buah:\n",
    "    print(jenis)\n",
    "    \n",
    "##jenis = variabel baru untuk menampung data list dalam for\n",
    "##jenis mengindikasikan satu satu dari data variabel buah"
   ]
  },
  {
   "cell_type": "code",
   "execution_count": 25,
   "id": "d7944f00",
   "metadata": {},
   "outputs": [
    {
     "name": "stdout",
     "output_type": "stream",
     "text": [
      "apel\n",
      "anggur\n",
      "nanas\n",
      "alpukat\n"
     ]
    }
   ],
   "source": [
    "##Menampilkan data list menggunakan while\n",
    "\n",
    "i = 0\n",
    "while i < len(buah):\n",
    "    print(buah[i])\n",
    "    i += 1\n",
    "    \n",
    "##i merupakan variabel yang digunakan untuk menentukan batas awal dari kondisi atau syarat pada while"
   ]
  },
  {
   "cell_type": "code",
   "execution_count": 23,
   "id": "855bc810",
   "metadata": {},
   "outputs": [
    {
     "name": "stdout",
     "output_type": "stream",
     "text": [
      "4\n"
     ]
    }
   ],
   "source": [
    "print(len(buah))"
   ]
  },
  {
   "cell_type": "code",
   "execution_count": 26,
   "id": "d9fe2c10",
   "metadata": {},
   "outputs": [
    {
     "name": "stdout",
     "output_type": "stream",
     "text": [
      "0\n",
      "1\n",
      "4\n",
      "9\n",
      "16\n"
     ]
    }
   ],
   "source": [
    "for i in [0, 1, 2, 3, 4]:\n",
    "    y = i ** 2\n",
    "    print(y)"
   ]
  },
  {
   "cell_type": "code",
   "execution_count": null,
   "id": "5ddef287",
   "metadata": {},
   "outputs": [],
   "source": []
  },
  {
   "cell_type": "markdown",
   "id": "64cd8d8d",
   "metadata": {},
   "source": [
    "# 5.14 Fungsi Range"
   ]
  },
  {
   "cell_type": "code",
   "execution_count": 27,
   "id": "a04c07c8",
   "metadata": {},
   "outputs": [],
   "source": [
    "angka = range(10)"
   ]
  },
  {
   "cell_type": "code",
   "execution_count": 28,
   "id": "66c25ca0",
   "metadata": {},
   "outputs": [
    {
     "name": "stdout",
     "output_type": "stream",
     "text": [
      "range(0, 10)\n"
     ]
    }
   ],
   "source": [
    "print(angka)"
   ]
  },
  {
   "cell_type": "code",
   "execution_count": 29,
   "id": "d7f7732e",
   "metadata": {},
   "outputs": [
    {
     "name": "stdout",
     "output_type": "stream",
     "text": [
      "0\n",
      "1\n",
      "2\n",
      "3\n",
      "4\n",
      "5\n",
      "6\n",
      "7\n",
      "8\n",
      "9\n"
     ]
    }
   ],
   "source": [
    "for isi in angka:\n",
    "    print(isi)"
   ]
  },
  {
   "cell_type": "code",
   "execution_count": 34,
   "id": "db14db6d",
   "metadata": {},
   "outputs": [
    {
     "name": "stdout",
     "output_type": "stream",
     "text": [
      "0\n",
      "1\n",
      "2\n"
     ]
    }
   ],
   "source": [
    "for isi in range(0,3):\n",
    "    print(isi)"
   ]
  },
  {
   "cell_type": "code",
   "execution_count": 1,
   "id": "2072df61",
   "metadata": {},
   "outputs": [],
   "source": [
    "for isi in range(1, -1):\n",
    "    print(isi)"
   ]
  },
  {
   "cell_type": "code",
   "execution_count": 37,
   "id": "62c49efb",
   "metadata": {},
   "outputs": [
    {
     "name": "stdout",
     "output_type": "stream",
     "text": [
      "0\n",
      "2\n",
      "4\n",
      "6\n",
      "8\n"
     ]
    }
   ],
   "source": [
    "for isi in range(0, 10, 2):\n",
    "    print(isi)"
   ]
  },
  {
   "cell_type": "markdown",
   "id": "bd87591d",
   "metadata": {},
   "source": [
    "### Contoh Program"
   ]
  },
  {
   "cell_type": "code",
   "execution_count": null,
   "id": "db047573",
   "metadata": {},
   "outputs": [],
   "source": []
  },
  {
   "cell_type": "code",
   "execution_count": 4,
   "id": "468d2932",
   "metadata": {},
   "outputs": [
    {
     "name": "stdout",
     "output_type": "stream",
     "text": [
      "2\n",
      "2\n",
      "3\n",
      "3\n",
      "4\n",
      "4\n",
      "5\n",
      "5\n",
      "5\n"
     ]
    }
   ],
   "source": [
    "data = [1, 2, 3, 4, 5, 4, 3, 2, 1]\n",
    "terbesar = data[0]\n",
    "for i in range(len(data)):\n",
    "    if data[i] > terbesar:\n",
    "        terbesar = data[i]\n",
    "        print(data[i])\n",
    "        print(terbesar)\n",
    "print(terbesar)"
   ]
  },
  {
   "cell_type": "code",
   "execution_count": 9,
   "id": "40638f6a",
   "metadata": {},
   "outputs": [
    {
     "data": {
      "text/plain": [
       "1"
      ]
     },
     "execution_count": 9,
     "metadata": {},
     "output_type": "execute_result"
    }
   ],
   "source": [
    "data[i]"
   ]
  },
  {
   "cell_type": "code",
   "execution_count": 12,
   "id": "e4a804d9",
   "metadata": {},
   "outputs": [
    {
     "data": {
      "text/plain": [
       "1"
      ]
     },
     "execution_count": 12,
     "metadata": {},
     "output_type": "execute_result"
    }
   ],
   "source": [
    "data[0]"
   ]
  },
  {
   "cell_type": "code",
   "execution_count": null,
   "id": "1c295064",
   "metadata": {},
   "outputs": [],
   "source": []
  },
  {
   "cell_type": "code",
   "execution_count": 3,
   "id": "b8ee2422",
   "metadata": {},
   "outputs": [
    {
     "name": "stdout",
     "output_type": "stream",
     "text": [
      "9\n"
     ]
    }
   ],
   "source": [
    "print(len(data))"
   ]
  },
  {
   "cell_type": "code",
   "execution_count": 4,
   "id": "068f5efa",
   "metadata": {},
   "outputs": [
    {
     "name": "stdout",
     "output_type": "stream",
     "text": [
      "5\n"
     ]
    }
   ],
   "source": [
    "data = [1, 2, 3, 4, 5, 4, 3, 2, 1]\n",
    "terbesar = data[0]\n",
    "for angka in data:\n",
    "    if angka > terbesar:\n",
    "        terbesar = angka\n",
    "#3print(angka)\n",
    "##print(data[0])\n",
    "print(terbesar)"
   ]
  },
  {
   "cell_type": "code",
   "execution_count": 5,
   "id": "6562a480",
   "metadata": {},
   "outputs": [
    {
     "name": "stdout",
     "output_type": "stream",
     "text": [
      "1\n"
     ]
    }
   ],
   "source": [
    "print(data[i])"
   ]
  },
  {
   "cell_type": "code",
   "execution_count": 6,
   "id": "f48c35ce",
   "metadata": {},
   "outputs": [
    {
     "name": "stdout",
     "output_type": "stream",
     "text": [
      "1\n"
     ]
    }
   ],
   "source": [
    "print(data[0])"
   ]
  },
  {
   "cell_type": "code",
   "execution_count": 7,
   "id": "ad3284e4",
   "metadata": {},
   "outputs": [
    {
     "data": {
      "text/plain": [
       "False"
      ]
     },
     "execution_count": 7,
     "metadata": {},
     "output_type": "execute_result"
    }
   ],
   "source": [
    "data[i] > terbesar"
   ]
  },
  {
   "cell_type": "code",
   "execution_count": 8,
   "id": "64de156b",
   "metadata": {},
   "outputs": [
    {
     "name": "stdout",
     "output_type": "stream",
     "text": [
      "5\n"
     ]
    }
   ],
   "source": [
    "print(terbesar)"
   ]
  },
  {
   "cell_type": "code",
   "execution_count": null,
   "id": "74ff5f66",
   "metadata": {},
   "outputs": [],
   "source": []
  }
 ],
 "metadata": {
  "kernelspec": {
   "display_name": "Python 3 (ipykernel)",
   "language": "python",
   "name": "python3"
  },
  "language_info": {
   "codemirror_mode": {
    "name": "ipython",
    "version": 3
   },
   "file_extension": ".py",
   "mimetype": "text/x-python",
   "name": "python",
   "nbconvert_exporter": "python",
   "pygments_lexer": "ipython3",
   "version": "3.9.13"
  }
 },
 "nbformat": 4,
 "nbformat_minor": 5
}
