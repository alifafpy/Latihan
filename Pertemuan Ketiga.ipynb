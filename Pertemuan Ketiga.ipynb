{
 "cells": [
  {
   "cell_type": "code",
   "execution_count": 1,
   "id": "4ee4ba89",
   "metadata": {},
   "outputs": [
    {
     "name": "stdout",
     "output_type": "stream",
     "text": [
      " kelas algori\n"
     ]
    }
   ],
   "source": [
    "##Pertemuan Minggu ketiga\n",
    "\n",
    "##Materi String Index\n",
    "\n",
    "kelas = 'ini kelas algoritma'\n",
    "\n",
    "##String Index dengan 2 angka\n",
    "\n",
    "print(kelas[3:-3])\n",
    "\n",
    "##Angka pertama artinya index pertama yang akan dimunculkan\n",
    "##Angka kedua artinya batas index yang akan dimunculkan, tidak termasuk index tersebut\n",
    "##Contoh, apabila sampai -3 maka index yang akan dimunculkan hanya sampai index ke -4"
   ]
  },
  {
   "cell_type": "code",
   "execution_count": 2,
   "id": "414a4d29",
   "metadata": {},
   "outputs": [
    {
     "name": "stdout",
     "output_type": "stream",
     "text": [
      " ali\n"
     ]
    }
   ],
   "source": [
    "##String Index 3 angka\n",
    "\n",
    "print(kelas[3:-3:4])\n",
    "\n",
    "##Angka ketiga artinya loncatan index yang akan dimunculkan"
   ]
  },
  {
   "cell_type": "code",
   "execution_count": 4,
   "id": "40023cc8",
   "metadata": {},
   "outputs": [
    {
     "name": "stdout",
     "output_type": "stream",
     "text": [
      "Alifa \n"
     ]
    }
   ],
   "source": [
    "nama = 'Alifa Fitriana Putri Yuaswan'\n",
    "print(nama[0:6])\n",
    "\n",
    "##[0:6] artinya memunculkan index ke 0 sampai ke 5 saja (tidak termasuk index ke 6)"
   ]
  },
  {
   "cell_type": "code",
   "execution_count": 5,
   "id": "64d16f94",
   "metadata": {},
   "outputs": [
    {
     "name": "stdout",
     "output_type": "stream",
     "text": [
      "Alifa Fitriana Putri Yuaswan\n"
     ]
    }
   ],
   "source": [
    "##String Index tanpa memanggil index ke berapa yang akan dimunculkan\n",
    "\n",
    "print(nama[:])\n",
    "\n",
    "##Karena tidak ada index yang dipanggil, maka yang tampil adalah semua data index di Variabel nama"
   ]
  },
  {
   "cell_type": "code",
   "execution_count": 6,
   "id": "1fbc26fc",
   "metadata": {},
   "outputs": [
    {
     "name": "stdout",
     "output_type": "stream",
     "text": [
      "f i\n"
     ]
    }
   ],
   "source": [
    "##Memunculkan Index ke 3 dengan batas index ke 9 yang memiliki loncatan sebanyak 2 index\n",
    "\n",
    "print(nama[3:9:2])"
   ]
  },
  {
   "cell_type": "code",
   "execution_count": 7,
   "id": "9fbb3a6f",
   "metadata": {},
   "outputs": [
    {
     "name": "stdout",
     "output_type": "stream",
     "text": [
      "Alif\n"
     ]
    },
    {
     "data": {
      "text/plain": [
       "NoneType"
      ]
     },
     "execution_count": 7,
     "metadata": {},
     "output_type": "execute_result"
    }
   ],
   "source": [
    "##Mengecek jenis tipe data\n",
    "\n",
    "type(print(nama[0:4]))\n",
    "\n",
    "##Muncul none type karena tidak ada tipe data yang terdeteksi karena terdapat perintah print"
   ]
  },
  {
   "cell_type": "code",
   "execution_count": 8,
   "id": "9c920362",
   "metadata": {},
   "outputs": [
    {
     "data": {
      "text/plain": [
       "str"
      ]
     },
     "execution_count": 8,
     "metadata": {},
     "output_type": "execute_result"
    }
   ],
   "source": [
    "##Melihat/mengecek jenis tipe data\n",
    "\n",
    "type(nama[0:5])"
   ]
  },
  {
   "cell_type": "code",
   "execution_count": 9,
   "id": "4cda2a6e",
   "metadata": {},
   "outputs": [
    {
     "ename": "ValueError",
     "evalue": "invalid literal for int() with base 10: 'Alifa Fitriana Putri Yuaswan'",
     "output_type": "error",
     "traceback": [
      "\u001b[1;31m---------------------------------------------------------------------------\u001b[0m",
      "\u001b[1;31mValueError\u001b[0m                                Traceback (most recent call last)",
      "\u001b[1;32m~\\AppData\\Local\\Temp\\ipykernel_20620\\812771894.py\u001b[0m in \u001b[0;36m<module>\u001b[1;34m\u001b[0m\n\u001b[1;32m----> 1\u001b[1;33m \u001b[0mtype\u001b[0m\u001b[1;33m(\u001b[0m\u001b[0mint\u001b[0m\u001b[1;33m(\u001b[0m\u001b[0mnama\u001b[0m\u001b[1;33m)\u001b[0m\u001b[1;33m)\u001b[0m\u001b[1;33m\u001b[0m\u001b[1;33m\u001b[0m\u001b[0m\n\u001b[0m",
      "\u001b[1;31mValueError\u001b[0m: invalid literal for int() with base 10: 'Alifa Fitriana Putri Yuaswan'"
     ]
    }
   ],
   "source": [
    "##Saya mencoba mengubah tipe data variabel nama menjadi bertipe data int\n",
    "##Error dikarenakan tipe data sebelumnya adalah string, sehingga tidak dapat ke int\n",
    "\n",
    "type(int(nama))"
   ]
  },
  {
   "cell_type": "code",
   "execution_count": 10,
   "id": "32bbc5d9",
   "metadata": {},
   "outputs": [
    {
     "name": "stdout",
     "output_type": "stream",
     "text": [
      "Alifa Fitriana Putri Yuaswa\n"
     ]
    }
   ],
   "source": [
    "print(nama[0:27])"
   ]
  },
  {
   "cell_type": "code",
   "execution_count": 11,
   "id": "35a7b265",
   "metadata": {},
   "outputs": [
    {
     "name": "stdout",
     "output_type": "stream",
     "text": [
      "iaFtin ur\n",
      "Alifa Fitriana P\n"
     ]
    }
   ],
   "source": [
    "##Menampilkan data menggunakan 2 print dalam baris yang berbeda\n",
    "\n",
    "print(nama[2:-8:2])\n",
    "print(nama[0:-12])"
   ]
  },
  {
   "cell_type": "code",
   "execution_count": 12,
   "id": "8cfb0c48",
   "metadata": {},
   "outputs": [
    {
     "name": "stdout",
     "output_type": "stream",
     "text": [
      "Ali\n",
      "ifa Fitr\n"
     ]
    },
    {
     "data": {
      "text/plain": [
       "(None, None)"
      ]
     },
     "execution_count": 12,
     "metadata": {},
     "output_type": "execute_result"
    }
   ],
   "source": [
    "##Menampilkan data menggunakan 2 print dalam 1 baris\n",
    "\n",
    "print(nama[0:3]), print(nama[2:10])\n",
    "\n",
    "##Muncul none karena ada 2 print sekaligus dalam 1 baris sehingga terdeteksi sebagai vektor\n",
    "##Namun, vektornya dalam bentuk string sehingga dia memunculkan none"
   ]
  },
  {
   "cell_type": "code",
   "execution_count": 13,
   "id": "3442a081",
   "metadata": {},
   "outputs": [
    {
     "name": "stdout",
     "output_type": "stream",
     "text": [
      "lifa Fitriana Putri Yuas  Fitriana Putri Yua\n"
     ]
    }
   ],
   "source": [
    "##Menampilkan data menggunakan 1 print dalam 1 baris, dimana 1 print untuk memunculkan dua data sekaligus\n",
    "\n",
    "print(nama[1:-3], nama[5:-4])"
   ]
  },
  {
   "cell_type": "code",
   "execution_count": 14,
   "id": "f764c323",
   "metadata": {},
   "outputs": [
    {
     "name": "stdout",
     "output_type": "stream",
     "text": [
      "ifa Fitriana Putri\n",
      "aswa\n"
     ]
    }
   ],
   "source": [
    "##Menampilkan data menggunakan 2 print dalam 2 baris\n",
    "\n",
    "print(nama[2:20]),\n",
    "print(nama[-5:-1])"
   ]
  },
  {
   "cell_type": "code",
   "execution_count": 26,
   "id": "f8eea121",
   "metadata": {},
   "outputs": [
    {
     "ename": "SyntaxError",
     "evalue": "invalid syntax (3859873677.py, line 5)",
     "output_type": "error",
     "traceback": [
      "\u001b[1;36m  File \u001b[1;32m\"C:\\Users\\alifa\\AppData\\Local\\Temp\\ipykernel_20620\\3859873677.py\"\u001b[1;36m, line \u001b[1;32m5\u001b[0m\n\u001b[1;33m    print(angka[])\u001b[0m\n\u001b[1;37m                ^\u001b[0m\n\u001b[1;31mSyntaxError\u001b[0m\u001b[1;31m:\u001b[0m invalid syntax\n"
     ]
    }
   ],
   "source": [
    "##Mencoba membuat variabel angka yang bertipe data bukan string\n",
    "##Error karena sintak tidak valid\n",
    "\n",
    "angka = 123\n",
    "print(angka[])"
   ]
  },
  {
   "cell_type": "code",
   "execution_count": 29,
   "id": "3f11d9f8",
   "metadata": {},
   "outputs": [
    {
     "data": {
      "text/plain": [
       "int"
      ]
     },
     "execution_count": 29,
     "metadata": {},
     "output_type": "execute_result"
    }
   ],
   "source": [
    "##Melihat jenis tipe data dari variabel angka\n",
    "\n",
    "type(angka)"
   ]
  },
  {
   "cell_type": "code",
   "execution_count": 30,
   "id": "107475cd",
   "metadata": {},
   "outputs": [
    {
     "data": {
      "text/plain": [
       "str"
      ]
     },
     "execution_count": 30,
     "metadata": {},
     "output_type": "execute_result"
    }
   ],
   "source": [
    "##Mengubah tipe data variabel angka dari int ke string\n",
    "\n",
    "type(str(angka))"
   ]
  },
  {
   "cell_type": "code",
   "execution_count": 32,
   "id": "19449aa3",
   "metadata": {},
   "outputs": [
    {
     "name": "stdout",
     "output_type": "stream",
     "text": [
      "1 2 3 4\n"
     ]
    }
   ],
   "source": [
    "nomor = '1 2 3 4 5'\n",
    "print(nomor[0:-2])"
   ]
  },
  {
   "cell_type": "code",
   "execution_count": 33,
   "id": "3de38df8",
   "metadata": {},
   "outputs": [
    {
     "data": {
      "text/plain": [
       "str"
      ]
     },
     "execution_count": 33,
     "metadata": {},
     "output_type": "execute_result"
    }
   ],
   "source": [
    "type(nomor)"
   ]
  },
  {
   "cell_type": "code",
   "execution_count": 34,
   "id": "7fcd76a1",
   "metadata": {},
   "outputs": [
    {
     "ename": "ValueError",
     "evalue": "invalid literal for int() with base 10: '1 2 3 4 5'",
     "output_type": "error",
     "traceback": [
      "\u001b[1;31m---------------------------------------------------------------------------\u001b[0m",
      "\u001b[1;31mValueError\u001b[0m                                Traceback (most recent call last)",
      "\u001b[1;32m~\\AppData\\Local\\Temp\\ipykernel_20620\\1946486770.py\u001b[0m in \u001b[0;36m<module>\u001b[1;34m\u001b[0m\n\u001b[1;32m----> 1\u001b[1;33m \u001b[0mtype\u001b[0m\u001b[1;33m(\u001b[0m\u001b[0mint\u001b[0m\u001b[1;33m(\u001b[0m\u001b[0mnomor\u001b[0m\u001b[1;33m)\u001b[0m\u001b[1;33m)\u001b[0m\u001b[1;33m\u001b[0m\u001b[1;33m\u001b[0m\u001b[0m\n\u001b[0m",
      "\u001b[1;31mValueError\u001b[0m: invalid literal for int() with base 10: '1 2 3 4 5'"
     ]
    }
   ],
   "source": [
    "##Error karena tipe data string tidak dapat diubah ke int\n",
    "\n",
    "type(int(nomor))"
   ]
  },
  {
   "cell_type": "code",
   "execution_count": 37,
   "id": "61cfadeb",
   "metadata": {},
   "outputs": [],
   "source": [
    "##Materi String Methods\n",
    "\n",
    "judul = 'Indonesia is Wonderful'"
   ]
  },
  {
   "cell_type": "code",
   "execution_count": 38,
   "id": "204bff67",
   "metadata": {},
   "outputs": [
    {
     "name": "stdout",
     "output_type": "stream",
     "text": [
      "22\n"
     ]
    }
   ],
   "source": [
    "##Menghitung banyak karakter yang ada dalam variabel judul\n",
    "\n",
    "print(len(judul))"
   ]
  },
  {
   "cell_type": "code",
   "execution_count": 39,
   "id": "83fc861d",
   "metadata": {},
   "outputs": [
    {
     "data": {
      "text/plain": [
       "'INDONESIA IS WONDERFUL'"
      ]
     },
     "execution_count": 39,
     "metadata": {},
     "output_type": "execute_result"
    }
   ],
   "source": [
    "##Mengubah data dalam variabel menjadi hurus besar semua\n",
    "\n",
    "judul.upper()"
   ]
  },
  {
   "cell_type": "code",
   "execution_count": 40,
   "id": "7c7c85f1",
   "metadata": {},
   "outputs": [
    {
     "data": {
      "text/plain": [
       "'indonesia is wonderful'"
      ]
     },
     "execution_count": 40,
     "metadata": {},
     "output_type": "execute_result"
    }
   ],
   "source": [
    "##Mengubah data dalam variabel menjadi huruf kecil semua\n",
    "\n",
    "judul.lower()"
   ]
  },
  {
   "cell_type": "code",
   "execution_count": 41,
   "id": "86975eb0",
   "metadata": {},
   "outputs": [
    {
     "data": {
      "text/plain": [
       "('INDONESIA IS WONDERFUL', 'indonesia is wonderful')"
      ]
     },
     "execution_count": 41,
     "metadata": {},
     "output_type": "execute_result"
    }
   ],
   "source": [
    "##Mengubah data dalam variabel menjadi huruf besar dan huruf kecil dalam 1 baris\n",
    "\n",
    "judul.upper(), judul.lower()"
   ]
  },
  {
   "cell_type": "code",
   "execution_count": 42,
   "id": "07303221",
   "metadata": {},
   "outputs": [
    {
     "data": {
      "text/plain": [
       "10"
      ]
     },
     "execution_count": 42,
     "metadata": {},
     "output_type": "execute_result"
    }
   ],
   "source": [
    "##Untuk mencari karakter atau kata dalam variabel\n",
    "\n",
    "judul.find('is')\n",
    "\n",
    "##10 berarti 'is' berada di index ke 10"
   ]
  },
  {
   "cell_type": "code",
   "execution_count": 43,
   "id": "3e3f7cfc",
   "metadata": {},
   "outputs": [
    {
     "data": {
      "text/plain": [
       "-1"
      ]
     },
     "execution_count": 43,
     "metadata": {},
     "output_type": "execute_result"
    }
   ],
   "source": [
    "##Mencari karakter atau kata dalam variabel\n",
    "\n",
    "judul.find('are')\n",
    "\n",
    "##-1 berarti kata atau karakter yang dicari tidak ada atau tidak ditemukan"
   ]
  },
  {
   "cell_type": "code",
   "execution_count": 44,
   "id": "52f6d5e5",
   "metadata": {},
   "outputs": [
    {
     "data": {
      "text/plain": [
       "-1"
      ]
     },
     "execution_count": 44,
     "metadata": {},
     "output_type": "execute_result"
    }
   ],
   "source": [
    "judul.find('Is')\n",
    "\n",
    "##-1 berarti karakter yang dicari tidak ditemukan\n",
    "##'Is' bernilai -1 karena dalam variabel yang ada adalah 'is', terdapat perbedaan dalam huruf besar/kecilnya\n",
    "##ini merupakan case yang sensitif, sehingga besar kecil suatu karakter sangat diperhatikan"
   ]
  },
  {
   "cell_type": "code",
   "execution_count": 45,
   "id": "4a555346",
   "metadata": {},
   "outputs": [
    {
     "data": {
      "text/plain": [
       "'Bali is Wonderful'"
      ]
     },
     "execution_count": 45,
     "metadata": {},
     "output_type": "execute_result"
    }
   ],
   "source": [
    "##Untuk mengganti karakter atau kata dalam variabel\n",
    "\n",
    "judul.replace('Indonesia', 'Bali')"
   ]
  },
  {
   "cell_type": "code",
   "execution_count": 47,
   "id": "29f0da89",
   "metadata": {},
   "outputs": [
    {
     "data": {
      "text/plain": [
       "'Indonesia is Wonderful'"
      ]
     },
     "execution_count": 47,
     "metadata": {},
     "output_type": "execute_result"
    }
   ],
   "source": [
    "judul.replace('indonesia', 'Bali')\n",
    "\n",
    "##Karakter tidak terganti karena tidak ada 'indonesia' dalam variabel\n",
    "##Ini merupakan case yang sensitif, sehingga besar kecil suatu karakter sangat diperhatikan"
   ]
  },
  {
   "cell_type": "code",
   "execution_count": 48,
   "id": "5df351d7",
   "metadata": {},
   "outputs": [
    {
     "name": "stdout",
     "output_type": "stream",
     "text": [
      "True\n"
     ]
    }
   ],
   "source": [
    "##Untuk mencari tahu karakter terdapat dalam data variabel atau tidak\n",
    "##Jika ada maka output yang muncul adalah True\n",
    "##Jika tidak ada/salah maka output yang muncul adalah False\n",
    "\n",
    "print('Indonesia' in judul)"
   ]
  },
  {
   "cell_type": "code",
   "execution_count": 49,
   "id": "5a35f351",
   "metadata": {},
   "outputs": [
    {
     "name": "stdout",
     "output_type": "stream",
     "text": [
      "False\n"
     ]
    }
   ],
   "source": [
    "print('Bali' in judul)\n",
    "\n",
    "##Output yang muncul False karena tidak ada karakter 'Bali' dalam data variabel"
   ]
  },
  {
   "cell_type": "code",
   "execution_count": 52,
   "id": "5a534d6e",
   "metadata": {},
   "outputs": [
    {
     "name": "stdout",
     "output_type": "stream",
     "text": [
      "True\n",
      "False\n"
     ]
    },
    {
     "data": {
      "text/plain": [
       "(None, None)"
      ]
     },
     "execution_count": 52,
     "metadata": {},
     "output_type": "execute_result"
    }
   ],
   "source": [
    "##Mencari menggunakan 2 print di 1 baris\n",
    "\n",
    "print('is' in judul), print('dan' in judul)\n",
    "\n",
    "##Muncul none karena terdapat 2 print yang bertipe data string"
   ]
  },
  {
   "cell_type": "code",
   "execution_count": 53,
   "id": "6c0b5b20",
   "metadata": {},
   "outputs": [
    {
     "name": "stdout",
     "output_type": "stream",
     "text": [
      "False True\n"
     ]
    }
   ],
   "source": [
    "##Mencari 2 data menggunakan 1 print di 1 baris\n",
    "\n",
    "print('dan' in judul, 'is' in judul)"
   ]
  },
  {
   "cell_type": "code",
   "execution_count": 54,
   "id": "4bf3e789",
   "metadata": {},
   "outputs": [
    {
     "name": "stdout",
     "output_type": "stream",
     "text": [
      "True\n",
      "False\n"
     ]
    }
   ],
   "source": [
    "##Mencari 2 data menggunakan 2 print dalam 2 baris\n",
    "\n",
    "print('is' in judul)\n",
    "print('dan' in judul)"
   ]
  },
  {
   "cell_type": "code",
   "execution_count": 55,
   "id": "a25deff3",
   "metadata": {},
   "outputs": [
    {
     "name": "stdout",
     "output_type": "stream",
     "text": [
      "6\n",
      "-4\n",
      "5\n",
      "2.5\n",
      "2\n",
      "1\n",
      "25\n",
      "5\n",
      "2\n",
      "6\n"
     ]
    }
   ],
   "source": [
    "##Materi Operasi Matematika di Python\n",
    "\n",
    "##Operasi penjumlahan\n",
    "print(1 + 5)\n",
    "\n",
    "##Operasi Pengurangan\n",
    "print(1 - 5)\n",
    "\n",
    "##Operasi Perkalian\n",
    "print(1 * 5)\n",
    "\n",
    "##Operasi Pembagian\n",
    "print(5 / 2)\n",
    "\n",
    "##Operasi Pembulatan Pembagian\n",
    "print(5 // 2)\n",
    "\n",
    "##Operasi Modulo (habis dibagi)\n",
    "print(5 % 2)\n",
    "\n",
    "##Operasi Pemangkatan\n",
    "print(5 ** 2)\n",
    "\n",
    "\n",
    "##Augmented Operator pada Penjumlahan, x += 3 berarti x = x + 3\n",
    "##Maka x = 2 + 3, sehingga x = 5\n",
    "x = 2\n",
    "x += 3\n",
    "print(x)\n",
    "\n",
    "##Augmented Operator pada Pengurangan, x -= 3 berarti x = x - 3\n",
    "##Sebelumnya didapatkan bahwa x = 5, maka selanjutnya nilai x = 5\n",
    "##Maka x = 5 - 3, sehingga x = 2\n",
    "x -= 3\n",
    "print(x)\n",
    "\n",
    "##Augmented Operator pada Perkalian, x *= 3 berarti x = x * 3\n",
    "##Sebelumnya didapatkan bahwa x = 2, maka selanjutnya nilai x = 2\n",
    "##Maka x = 2 * 3, sehingga x = 6\n",
    "x *= 3\n",
    "print(x)\n",
    "\n",
    "##Apabila nilai x tidak dideklarasikan menggunakan data x yang baru,\n",
    "##maka yang akan dieksekusi adalah data lama yang sebelumnya telah tersimpan di memori"
   ]
  },
  {
   "cell_type": "code",
   "execution_count": 56,
   "id": "e0262d5b",
   "metadata": {},
   "outputs": [
    {
     "name": "stdout",
     "output_type": "stream",
     "text": [
      "7\n"
     ]
    }
   ],
   "source": [
    "##Berarti x = x + 2, dimana x = 5\n",
    "##Sehingga x = 5 + 2, x = 7\n",
    "\n",
    "x = 5\n",
    "x += 2\n",
    "print(x)"
   ]
  },
  {
   "cell_type": "code",
   "execution_count": 57,
   "id": "9abf1b68",
   "metadata": {},
   "outputs": [
    {
     "name": "stdout",
     "output_type": "stream",
     "text": [
      "4\n"
     ]
    }
   ],
   "source": [
    "##Berarti x = x - 2, dimana x = 6\n",
    "\n",
    "x = 6\n",
    "x -= 2\n",
    "print(x)"
   ]
  },
  {
   "cell_type": "code",
   "execution_count": 58,
   "id": "95f79d8b",
   "metadata": {},
   "outputs": [
    {
     "name": "stdout",
     "output_type": "stream",
     "text": [
      "-1\n"
     ]
    }
   ],
   "source": [
    "x = 2\n",
    "x -= 3\n",
    "print(x)"
   ]
  },
  {
   "cell_type": "code",
   "execution_count": 59,
   "id": "3ac7c576",
   "metadata": {},
   "outputs": [
    {
     "name": "stdout",
     "output_type": "stream",
     "text": [
      "True\n",
      "True\n",
      "True\n",
      "True\n",
      "True\n",
      "True\n"
     ]
    }
   ],
   "source": [
    "##Materi Operator Perbandingan di Python\n",
    "\n",
    "##Operator Perbandingan Lebih besar (>)\n",
    "x = 3 > 2\n",
    "print(x)\n",
    "\n",
    "##Operator Perbandingan Lebih Kecil (<)\n",
    "x = 2 < 3\n",
    "print(x)\n",
    "\n",
    "##Operator Perbandingan Lebih besar Sama Dengan (>=)\n",
    "x = 3 >= 2\n",
    "print(x)\n",
    "\n",
    "##Operator Perbandingan Lebih Kecil Sama Dengan (<=)\n",
    "x = 2 <= 3\n",
    "print(x)\n",
    "\n",
    "##Operator Perbandingan Sama Dengan (==)\n",
    "x = 3 == 3\n",
    "print(x)\n",
    "\n",
    "##Operator Perbandingan Tidak Sama Dengan (!=)\n",
    "x = 3 != 4\n",
    "print(x)"
   ]
  },
  {
   "cell_type": "code",
   "execution_count": 60,
   "id": "242f9f7a",
   "metadata": {},
   "outputs": [
    {
     "name": "stdout",
     "output_type": "stream",
     "text": [
      "False\n",
      "False\n",
      "False\n",
      "False\n",
      "False\n",
      "False\n"
     ]
    }
   ],
   "source": [
    "##Membandingkan Output dengan hasil output di atas\n",
    "\n",
    "####Operator Perbandingan Lebih besar (>)\n",
    "x = 2 > 3\n",
    "print(x)\n",
    "\n",
    "##Operator Perbandingan Lebih Kecil (<)\n",
    "x = 3 < 2\n",
    "print(x)\n",
    "\n",
    "##Operator Perbandingan Lebih besar Sama Dengan (>=)\n",
    "x = 2 >= 3\n",
    "print(x)\n",
    "\n",
    "##Operator Perbandingan Lebih Kecil Sama Dengan (<=)\n",
    "x = 3 <= 2\n",
    "print(x)\n",
    "\n",
    "##Operator Perbandingan Sama Dengan (==)\n",
    "x = 3 == 4\n",
    "print(x)\n",
    "\n",
    "##Operator Perbandingan Tidak Sama Dengan (!=)\n",
    "x = 3 != 3\n",
    "print(x)\n",
    "\n",
    "##Hasil dari perbandingan 2 output adalah, dengan mengubah atau membalik angkanya saja dapat membuat hasil output yang berbeda,\n",
    "##tergantung operator yang digunakan."
   ]
  },
  {
   "cell_type": "code",
   "execution_count": 61,
   "id": "daa63b63",
   "metadata": {},
   "outputs": [
    {
     "name": "stdout",
     "output_type": "stream",
     "text": [
      "True\n"
     ]
    }
   ],
   "source": [
    "##Materi Operator Logika di Python\n",
    "\n",
    "mangga = 3\n",
    "apel = 5\n",
    "\n",
    "##Operator And\n",
    "##Operator and akan bernilai True jika keduanya bernilai true, apabila hanya salah satu yang bernilai true, maka output = false\n",
    "print(mangga > 2 and apel < 10)"
   ]
  },
  {
   "cell_type": "code",
   "execution_count": 62,
   "id": "5c275cfe",
   "metadata": {},
   "outputs": [
    {
     "name": "stdout",
     "output_type": "stream",
     "text": [
      "False\n"
     ]
    }
   ],
   "source": [
    "##Bernilai false karena keduanya memiliki nilai false\n",
    "\n",
    "print(mangga > 3 and apel < 10)"
   ]
  },
  {
   "cell_type": "code",
   "execution_count": 63,
   "id": "e52df087",
   "metadata": {},
   "outputs": [
    {
     "name": "stdout",
     "output_type": "stream",
     "text": [
      "False\n"
     ]
    }
   ],
   "source": [
    "##Bernilai false karena hanya salah satu yang bernilai true dan satu lainnya bernilai false\n",
    "\n",
    "print(mangga < 3 and apel < 10)"
   ]
  },
  {
   "cell_type": "code",
   "execution_count": 64,
   "id": "e5da05f2",
   "metadata": {},
   "outputs": [
    {
     "name": "stdout",
     "output_type": "stream",
     "text": [
      "True\n"
     ]
    }
   ],
   "source": [
    "##Operator Or\n",
    "##Operator or akan bernilai True jika salah satu bernilai True, dan akan bernilai False jika keduanya bernilai False\n",
    "\n",
    "print(mangga < 2 or apel < 10)"
   ]
  },
  {
   "cell_type": "code",
   "execution_count": 65,
   "id": "f38f82d8",
   "metadata": {},
   "outputs": [
    {
     "name": "stdout",
     "output_type": "stream",
     "text": [
      "False\n"
     ]
    }
   ],
   "source": [
    "##Bernilai false karena keduanya bernilai false\n",
    "\n",
    "print(mangga < 2 or apel > 10)"
   ]
  },
  {
   "cell_type": "code",
   "execution_count": 66,
   "id": "7bf85cf4",
   "metadata": {},
   "outputs": [
    {
     "name": "stdout",
     "output_type": "stream",
     "text": [
      "True\n"
     ]
    }
   ],
   "source": [
    "##Operator Not\n",
    "##Menghasilkan output yang berlawanan/kebalikan dari output aslinya\n",
    "##Jika output bernilai true, maka nilai dari not nya adalah false\n",
    "\n",
    "print(not(mangga < 2 or apel > 10))"
   ]
  },
  {
   "cell_type": "code",
   "execution_count": 1,
   "id": "e7b0601c",
   "metadata": {},
   "outputs": [
    {
     "name": "stdout",
     "output_type": "stream",
     "text": [
      "True\n"
     ]
    }
   ],
   "source": [
    "##Operator not\n",
    "##Dapat menggunakan tanda ~ untuk negasi atau operator not\n",
    "\n",
    "x = 2 < 3\n",
    "print(x)"
   ]
  },
  {
   "cell_type": "code",
   "execution_count": 2,
   "id": "7af08ef0",
   "metadata": {},
   "outputs": [
    {
     "name": "stdout",
     "output_type": "stream",
     "text": [
      "-2\n"
     ]
    }
   ],
   "source": [
    "##-2 memiliki nilai false atau salah\n",
    "\n",
    "print(~(x))"
   ]
  },
  {
   "cell_type": "code",
   "execution_count": 3,
   "id": "89dbd179",
   "metadata": {},
   "outputs": [
    {
     "name": "stdout",
     "output_type": "stream",
     "text": [
      "False\n"
     ]
    }
   ],
   "source": [
    "x = 10 < 5\n",
    "print(x)"
   ]
  },
  {
   "cell_type": "code",
   "execution_count": 4,
   "id": "e14b4aa6",
   "metadata": {},
   "outputs": [
    {
     "name": "stdout",
     "output_type": "stream",
     "text": [
      "-1\n"
     ]
    }
   ],
   "source": [
    "##-1 memiliki nilai true atau benar\n",
    "\n",
    "print(~(x))"
   ]
  },
  {
   "cell_type": "code",
   "execution_count": 5,
   "id": "2f5bccbe",
   "metadata": {},
   "outputs": [
    {
     "name": "stdout",
     "output_type": "stream",
     "text": [
      "Nilai anda adalah 76\n",
      "Anda mendapatkan nilai B\n",
      "Tingkatkan lagi ya!\n"
     ]
    }
   ],
   "source": [
    "##Materi Operator If di Python\n",
    "\n",
    "##Penerapan Operator if menggunakan if\n",
    "nilai = float(input('Nilai anda adalah '))\n",
    "if nilai >= 80:\n",
    "    print('Anda mendapatkan nilai A')\n",
    "    print('Bagus sekali, selamat ya!')\n",
    "if nilai < 80 and nilai >= 70:\n",
    "    print('Anda mendapatkan nilai B')\n",
    "    print('Tingkatkan lagi ya!')\n",
    "if nilai >= 60 and nilai < 70:\n",
    "    print('Anda mendapatkan nilai C')\n",
    "    print('Lain kali harus lebih baik lagi, oke!')\n",
    "if nilai >= 50 and nilai < 60:\n",
    "    print('Anda mendapatkan nilai D')\n",
    "    print('Ulangi lagi di tahun depan')\n",
    "if nilai < 50:\n",
    "    print('Anda mendapatkan nilai E')\n",
    "    print('Sampai jumpa tahun depan!')"
   ]
  },
  {
   "cell_type": "code",
   "execution_count": 8,
   "id": "c995224e",
   "metadata": {},
   "outputs": [
    {
     "name": "stdout",
     "output_type": "stream",
     "text": [
      "Nilai anda adalah 87\n",
      "Anda mendapatkan nilai A\n",
      "Bagus sekali, selamat ya!\n"
     ]
    }
   ],
   "source": [
    "##Materi Operator If di Python\n",
    "\n",
    "##Penerapan Operator if menggunakan if dan elif(else if)\n",
    "nilai = float(input('Nilai anda adalah '))\n",
    "if nilai >= 80:\n",
    "    print('Anda mendapatkan nilai A')\n",
    "    print('Bagus sekali, selamat ya!')\n",
    "elif nilai >= 70:\n",
    "    print('Anda mendapatkan nilai B')\n",
    "    print('Tingkatkan lagi ya!')\n",
    "elif nilai >= 60:\n",
    "    print('Anda mendapatkan nilai C')\n",
    "    print('Lain kali harus lebih baik lagi, oke!')\n",
    "elif nilai >= 50:\n",
    "    print('Anda mendapatkan nilai D')\n",
    "    print('Ulangi lagi di tahun depan')\n",
    "else:\n",
    "    print('Anda mendapatkan nilai E')\n",
    "    print('Sampai jumpa tahun depan!')\n",
    "\n",
    "##Penggunaan operator if bisa menggunakan if saja yang membutuhkan 2 batas (batas awal & batas akhir),\n",
    "##bisa juga menggunakan if dan elif (else if)"
   ]
  },
  {
   "cell_type": "code",
   "execution_count": 9,
   "id": "a639c9fd",
   "metadata": {},
   "outputs": [
    {
     "name": "stdout",
     "output_type": "stream",
     "text": [
      "Berapa tinggi anda saat ini? 160\n",
      "Tingginya dalam cm atau inci? cm\n",
      "Tinggi badan anda adalah 62.992160000000005 inci\n"
     ]
    }
   ],
   "source": [
    "##Membuat program dengan operator if yang dapat mengubah tinggi badan seseorang dalam cm menjadi inci, dan sebaliknya.\n",
    "\n",
    "tinggi = float(input('Berapa tinggi anda saat ini? '))\n",
    "cm_atau_inci = input('Tingginya dalam cm atau inci? ')\n",
    "\n",
    "if cm_atau_inci.upper() == 'CM':\n",
    "    tinggi = tinggi * 0.393701\n",
    "    print('Tinggi badan anda adalah ' + str(tinggi) + ' inci')\n",
    "elif cm_atau_inci.upper() == 'INCI':\n",
    "    tinggi = tinggi / 0.393701\n",
    "    print(f'Tinggi anda adalah {tinggi} cm')"
   ]
  },
  {
   "cell_type": "code",
   "execution_count": null,
   "id": "7b6a55bc",
   "metadata": {},
   "outputs": [],
   "source": []
  }
 ],
 "metadata": {
  "kernelspec": {
   "display_name": "Python 3 (ipykernel)",
   "language": "python",
   "name": "python3"
  },
  "language_info": {
   "codemirror_mode": {
    "name": "ipython",
    "version": 3
   },
   "file_extension": ".py",
   "mimetype": "text/x-python",
   "name": "python",
   "nbconvert_exporter": "python",
   "pygments_lexer": "ipython3",
   "version": "3.9.13"
  }
 },
 "nbformat": 4,
 "nbformat_minor": 5
}
