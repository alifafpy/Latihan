{
 "cells": [
  {
   "cell_type": "markdown",
   "id": "44822998",
   "metadata": {},
   "source": [
    "# Kelompok 9 - Dataset: Diabetes2"
   ]
  },
  {
   "cell_type": "code",
   "execution_count": 1,
   "id": "5cd6169b",
   "metadata": {},
   "outputs": [],
   "source": [
    "import pandas as pd\n",
    "import numpy as np\n",
    "import seaborn as sns\n",
    "import matplotlib.pyplot as plt\n",
    "\n",
    "import warnings\n",
    "warnings.filterwarnings(\"ignore\")"
   ]
  },
  {
   "cell_type": "markdown",
   "id": "0604f1e0",
   "metadata": {},
   "source": [
    "# Exploratory Data"
   ]
  },
  {
   "cell_type": "markdown",
   "id": "2d56ed39",
   "metadata": {},
   "source": [
    "Di sini akan digunakan data diabetes2, dimana kami bertujuan untuk menentukan apakah berdasarkan dataset yang ada dapat ditentukan atau tidak seseorang itu merupakan penderita diabetes atau bukan.\n",
    "Diabetes adalah salah satu penyakit yang kerap dialami oleh masyarakat. Diabetes sendiri dapat ditandai dengan tingginya kadar gula darah. Selain itu diabetes berhubungan BMI, riwayat penyakit keluarga/keturunan, rentang usia dimana penyakit diabetes banyak ditemukan, serta banyak faktor lainnya."
   ]
  },
  {
   "cell_type": "markdown",
   "id": "66cf90eb",
   "metadata": {},
   "source": [
    "Di sini kami berencana untuk mengidentifikasi pola atau informasi yang ada dalam dataset diabetes2 yang nantinya akan memberikan informasi mengenai hubungan antar faktor penyebab dengan penyakit diabetes, sehingga nantinya dapat ditemukan solusi untuk mengurangi banyaknya masyarakat yang terkena penyakit diabetes."
   ]
  },
  {
   "cell_type": "code",
   "execution_count": 2,
   "id": "3208dbc4",
   "metadata": {},
   "outputs": [],
   "source": [
    "data = pd.read_csv('diabetes2.csv')"
   ]
  },
  {
   "cell_type": "code",
   "execution_count": 3,
   "id": "6bee933e",
   "metadata": {},
   "outputs": [
    {
     "data": {
      "text/html": [
       "<div>\n",
       "<style scoped>\n",
       "    .dataframe tbody tr th:only-of-type {\n",
       "        vertical-align: middle;\n",
       "    }\n",
       "\n",
       "    .dataframe tbody tr th {\n",
       "        vertical-align: top;\n",
       "    }\n",
       "\n",
       "    .dataframe thead th {\n",
       "        text-align: right;\n",
       "    }\n",
       "</style>\n",
       "<table border=\"1\" class=\"dataframe\">\n",
       "  <thead>\n",
       "    <tr style=\"text-align: right;\">\n",
       "      <th></th>\n",
       "      <th>Diabetes_binary</th>\n",
       "      <th>HighBP</th>\n",
       "      <th>HighChol</th>\n",
       "      <th>CholCheck</th>\n",
       "      <th>BMI</th>\n",
       "      <th>Smoker</th>\n",
       "      <th>Stroke</th>\n",
       "      <th>HeartDiseaseorAttack</th>\n",
       "      <th>PhysActivity</th>\n",
       "      <th>Fruits</th>\n",
       "      <th>...</th>\n",
       "      <th>AnyHealthcare</th>\n",
       "      <th>NoDocbcCost</th>\n",
       "      <th>GenHlth</th>\n",
       "      <th>MentHlth</th>\n",
       "      <th>PhysHlth</th>\n",
       "      <th>DiffWalk</th>\n",
       "      <th>Sex</th>\n",
       "      <th>Age</th>\n",
       "      <th>Education</th>\n",
       "      <th>Income</th>\n",
       "    </tr>\n",
       "  </thead>\n",
       "  <tbody>\n",
       "    <tr>\n",
       "      <th>0</th>\n",
       "      <td>0.0</td>\n",
       "      <td>1.0</td>\n",
       "      <td>1.0</td>\n",
       "      <td>1.0</td>\n",
       "      <td>40.0</td>\n",
       "      <td>1.0</td>\n",
       "      <td>0.0</td>\n",
       "      <td>0.0</td>\n",
       "      <td>0.0</td>\n",
       "      <td>0.0</td>\n",
       "      <td>...</td>\n",
       "      <td>1.0</td>\n",
       "      <td>0.0</td>\n",
       "      <td>5.0</td>\n",
       "      <td>18.0</td>\n",
       "      <td>15.0</td>\n",
       "      <td>1.0</td>\n",
       "      <td>0.0</td>\n",
       "      <td>9.0</td>\n",
       "      <td>4.0</td>\n",
       "      <td>3.0</td>\n",
       "    </tr>\n",
       "    <tr>\n",
       "      <th>1</th>\n",
       "      <td>0.0</td>\n",
       "      <td>0.0</td>\n",
       "      <td>0.0</td>\n",
       "      <td>0.0</td>\n",
       "      <td>25.0</td>\n",
       "      <td>1.0</td>\n",
       "      <td>0.0</td>\n",
       "      <td>0.0</td>\n",
       "      <td>1.0</td>\n",
       "      <td>0.0</td>\n",
       "      <td>...</td>\n",
       "      <td>0.0</td>\n",
       "      <td>1.0</td>\n",
       "      <td>3.0</td>\n",
       "      <td>0.0</td>\n",
       "      <td>0.0</td>\n",
       "      <td>0.0</td>\n",
       "      <td>0.0</td>\n",
       "      <td>7.0</td>\n",
       "      <td>6.0</td>\n",
       "      <td>1.0</td>\n",
       "    </tr>\n",
       "    <tr>\n",
       "      <th>2</th>\n",
       "      <td>0.0</td>\n",
       "      <td>1.0</td>\n",
       "      <td>1.0</td>\n",
       "      <td>1.0</td>\n",
       "      <td>28.0</td>\n",
       "      <td>0.0</td>\n",
       "      <td>0.0</td>\n",
       "      <td>0.0</td>\n",
       "      <td>0.0</td>\n",
       "      <td>1.0</td>\n",
       "      <td>...</td>\n",
       "      <td>1.0</td>\n",
       "      <td>1.0</td>\n",
       "      <td>5.0</td>\n",
       "      <td>30.0</td>\n",
       "      <td>30.0</td>\n",
       "      <td>1.0</td>\n",
       "      <td>0.0</td>\n",
       "      <td>9.0</td>\n",
       "      <td>4.0</td>\n",
       "      <td>8.0</td>\n",
       "    </tr>\n",
       "    <tr>\n",
       "      <th>3</th>\n",
       "      <td>0.0</td>\n",
       "      <td>1.0</td>\n",
       "      <td>0.0</td>\n",
       "      <td>1.0</td>\n",
       "      <td>27.0</td>\n",
       "      <td>0.0</td>\n",
       "      <td>0.0</td>\n",
       "      <td>0.0</td>\n",
       "      <td>1.0</td>\n",
       "      <td>1.0</td>\n",
       "      <td>...</td>\n",
       "      <td>1.0</td>\n",
       "      <td>0.0</td>\n",
       "      <td>2.0</td>\n",
       "      <td>0.0</td>\n",
       "      <td>0.0</td>\n",
       "      <td>0.0</td>\n",
       "      <td>0.0</td>\n",
       "      <td>11.0</td>\n",
       "      <td>3.0</td>\n",
       "      <td>6.0</td>\n",
       "    </tr>\n",
       "    <tr>\n",
       "      <th>4</th>\n",
       "      <td>0.0</td>\n",
       "      <td>1.0</td>\n",
       "      <td>1.0</td>\n",
       "      <td>1.0</td>\n",
       "      <td>24.0</td>\n",
       "      <td>0.0</td>\n",
       "      <td>0.0</td>\n",
       "      <td>0.0</td>\n",
       "      <td>1.0</td>\n",
       "      <td>1.0</td>\n",
       "      <td>...</td>\n",
       "      <td>1.0</td>\n",
       "      <td>0.0</td>\n",
       "      <td>2.0</td>\n",
       "      <td>3.0</td>\n",
       "      <td>0.0</td>\n",
       "      <td>0.0</td>\n",
       "      <td>0.0</td>\n",
       "      <td>11.0</td>\n",
       "      <td>5.0</td>\n",
       "      <td>4.0</td>\n",
       "    </tr>\n",
       "    <tr>\n",
       "      <th>5</th>\n",
       "      <td>0.0</td>\n",
       "      <td>1.0</td>\n",
       "      <td>1.0</td>\n",
       "      <td>1.0</td>\n",
       "      <td>25.0</td>\n",
       "      <td>1.0</td>\n",
       "      <td>0.0</td>\n",
       "      <td>0.0</td>\n",
       "      <td>1.0</td>\n",
       "      <td>1.0</td>\n",
       "      <td>...</td>\n",
       "      <td>1.0</td>\n",
       "      <td>0.0</td>\n",
       "      <td>2.0</td>\n",
       "      <td>0.0</td>\n",
       "      <td>2.0</td>\n",
       "      <td>0.0</td>\n",
       "      <td>1.0</td>\n",
       "      <td>10.0</td>\n",
       "      <td>6.0</td>\n",
       "      <td>8.0</td>\n",
       "    </tr>\n",
       "    <tr>\n",
       "      <th>6</th>\n",
       "      <td>0.0</td>\n",
       "      <td>1.0</td>\n",
       "      <td>0.0</td>\n",
       "      <td>1.0</td>\n",
       "      <td>30.0</td>\n",
       "      <td>1.0</td>\n",
       "      <td>0.0</td>\n",
       "      <td>0.0</td>\n",
       "      <td>0.0</td>\n",
       "      <td>0.0</td>\n",
       "      <td>...</td>\n",
       "      <td>1.0</td>\n",
       "      <td>0.0</td>\n",
       "      <td>3.0</td>\n",
       "      <td>0.0</td>\n",
       "      <td>14.0</td>\n",
       "      <td>0.0</td>\n",
       "      <td>0.0</td>\n",
       "      <td>9.0</td>\n",
       "      <td>6.0</td>\n",
       "      <td>7.0</td>\n",
       "    </tr>\n",
       "    <tr>\n",
       "      <th>7</th>\n",
       "      <td>0.0</td>\n",
       "      <td>1.0</td>\n",
       "      <td>1.0</td>\n",
       "      <td>1.0</td>\n",
       "      <td>25.0</td>\n",
       "      <td>1.0</td>\n",
       "      <td>0.0</td>\n",
       "      <td>0.0</td>\n",
       "      <td>1.0</td>\n",
       "      <td>0.0</td>\n",
       "      <td>...</td>\n",
       "      <td>1.0</td>\n",
       "      <td>0.0</td>\n",
       "      <td>3.0</td>\n",
       "      <td>0.0</td>\n",
       "      <td>0.0</td>\n",
       "      <td>1.0</td>\n",
       "      <td>0.0</td>\n",
       "      <td>11.0</td>\n",
       "      <td>4.0</td>\n",
       "      <td>4.0</td>\n",
       "    </tr>\n",
       "    <tr>\n",
       "      <th>8</th>\n",
       "      <td>1.0</td>\n",
       "      <td>1.0</td>\n",
       "      <td>1.0</td>\n",
       "      <td>1.0</td>\n",
       "      <td>30.0</td>\n",
       "      <td>1.0</td>\n",
       "      <td>0.0</td>\n",
       "      <td>1.0</td>\n",
       "      <td>0.0</td>\n",
       "      <td>1.0</td>\n",
       "      <td>...</td>\n",
       "      <td>1.0</td>\n",
       "      <td>0.0</td>\n",
       "      <td>5.0</td>\n",
       "      <td>30.0</td>\n",
       "      <td>30.0</td>\n",
       "      <td>1.0</td>\n",
       "      <td>0.0</td>\n",
       "      <td>9.0</td>\n",
       "      <td>5.0</td>\n",
       "      <td>1.0</td>\n",
       "    </tr>\n",
       "    <tr>\n",
       "      <th>9</th>\n",
       "      <td>0.0</td>\n",
       "      <td>0.0</td>\n",
       "      <td>0.0</td>\n",
       "      <td>1.0</td>\n",
       "      <td>24.0</td>\n",
       "      <td>0.0</td>\n",
       "      <td>0.0</td>\n",
       "      <td>0.0</td>\n",
       "      <td>0.0</td>\n",
       "      <td>0.0</td>\n",
       "      <td>...</td>\n",
       "      <td>1.0</td>\n",
       "      <td>0.0</td>\n",
       "      <td>2.0</td>\n",
       "      <td>0.0</td>\n",
       "      <td>0.0</td>\n",
       "      <td>0.0</td>\n",
       "      <td>1.0</td>\n",
       "      <td>8.0</td>\n",
       "      <td>4.0</td>\n",
       "      <td>3.0</td>\n",
       "    </tr>\n",
       "  </tbody>\n",
       "</table>\n",
       "<p>10 rows × 22 columns</p>\n",
       "</div>"
      ],
      "text/plain": [
       "   Diabetes_binary  HighBP  HighChol  CholCheck   BMI  Smoker  Stroke  \\\n",
       "0              0.0     1.0       1.0        1.0  40.0     1.0     0.0   \n",
       "1              0.0     0.0       0.0        0.0  25.0     1.0     0.0   \n",
       "2              0.0     1.0       1.0        1.0  28.0     0.0     0.0   \n",
       "3              0.0     1.0       0.0        1.0  27.0     0.0     0.0   \n",
       "4              0.0     1.0       1.0        1.0  24.0     0.0     0.0   \n",
       "5              0.0     1.0       1.0        1.0  25.0     1.0     0.0   \n",
       "6              0.0     1.0       0.0        1.0  30.0     1.0     0.0   \n",
       "7              0.0     1.0       1.0        1.0  25.0     1.0     0.0   \n",
       "8              1.0     1.0       1.0        1.0  30.0     1.0     0.0   \n",
       "9              0.0     0.0       0.0        1.0  24.0     0.0     0.0   \n",
       "\n",
       "   HeartDiseaseorAttack  PhysActivity  Fruits  ...  AnyHealthcare  \\\n",
       "0                   0.0           0.0     0.0  ...            1.0   \n",
       "1                   0.0           1.0     0.0  ...            0.0   \n",
       "2                   0.0           0.0     1.0  ...            1.0   \n",
       "3                   0.0           1.0     1.0  ...            1.0   \n",
       "4                   0.0           1.0     1.0  ...            1.0   \n",
       "5                   0.0           1.0     1.0  ...            1.0   \n",
       "6                   0.0           0.0     0.0  ...            1.0   \n",
       "7                   0.0           1.0     0.0  ...            1.0   \n",
       "8                   1.0           0.0     1.0  ...            1.0   \n",
       "9                   0.0           0.0     0.0  ...            1.0   \n",
       "\n",
       "   NoDocbcCost  GenHlth  MentHlth  PhysHlth  DiffWalk  Sex   Age  Education  \\\n",
       "0          0.0      5.0      18.0      15.0       1.0  0.0   9.0        4.0   \n",
       "1          1.0      3.0       0.0       0.0       0.0  0.0   7.0        6.0   \n",
       "2          1.0      5.0      30.0      30.0       1.0  0.0   9.0        4.0   \n",
       "3          0.0      2.0       0.0       0.0       0.0  0.0  11.0        3.0   \n",
       "4          0.0      2.0       3.0       0.0       0.0  0.0  11.0        5.0   \n",
       "5          0.0      2.0       0.0       2.0       0.0  1.0  10.0        6.0   \n",
       "6          0.0      3.0       0.0      14.0       0.0  0.0   9.0        6.0   \n",
       "7          0.0      3.0       0.0       0.0       1.0  0.0  11.0        4.0   \n",
       "8          0.0      5.0      30.0      30.0       1.0  0.0   9.0        5.0   \n",
       "9          0.0      2.0       0.0       0.0       0.0  1.0   8.0        4.0   \n",
       "\n",
       "   Income  \n",
       "0     3.0  \n",
       "1     1.0  \n",
       "2     8.0  \n",
       "3     6.0  \n",
       "4     4.0  \n",
       "5     8.0  \n",
       "6     7.0  \n",
       "7     4.0  \n",
       "8     1.0  \n",
       "9     3.0  \n",
       "\n",
       "[10 rows x 22 columns]"
      ]
     },
     "execution_count": 3,
     "metadata": {},
     "output_type": "execute_result"
    }
   ],
   "source": [
    "#Menampilkan data awal atau data teratas (defaultnya menampilkan 5 data teratas)\n",
    "data.head(10)"
   ]
  },
  {
   "cell_type": "code",
   "execution_count": 4,
   "id": "b184bb91",
   "metadata": {},
   "outputs": [
    {
     "data": {
      "text/html": [
       "<div>\n",
       "<style scoped>\n",
       "    .dataframe tbody tr th:only-of-type {\n",
       "        vertical-align: middle;\n",
       "    }\n",
       "\n",
       "    .dataframe tbody tr th {\n",
       "        vertical-align: top;\n",
       "    }\n",
       "\n",
       "    .dataframe thead th {\n",
       "        text-align: right;\n",
       "    }\n",
       "</style>\n",
       "<table border=\"1\" class=\"dataframe\">\n",
       "  <thead>\n",
       "    <tr style=\"text-align: right;\">\n",
       "      <th></th>\n",
       "      <th>Diabetes_binary</th>\n",
       "      <th>HighBP</th>\n",
       "      <th>HighChol</th>\n",
       "      <th>CholCheck</th>\n",
       "      <th>BMI</th>\n",
       "      <th>Smoker</th>\n",
       "      <th>Stroke</th>\n",
       "      <th>HeartDiseaseorAttack</th>\n",
       "      <th>PhysActivity</th>\n",
       "      <th>Fruits</th>\n",
       "      <th>...</th>\n",
       "      <th>AnyHealthcare</th>\n",
       "      <th>NoDocbcCost</th>\n",
       "      <th>GenHlth</th>\n",
       "      <th>MentHlth</th>\n",
       "      <th>PhysHlth</th>\n",
       "      <th>DiffWalk</th>\n",
       "      <th>Sex</th>\n",
       "      <th>Age</th>\n",
       "      <th>Education</th>\n",
       "      <th>Income</th>\n",
       "    </tr>\n",
       "  </thead>\n",
       "  <tbody>\n",
       "    <tr>\n",
       "      <th>253670</th>\n",
       "      <td>1.0</td>\n",
       "      <td>1.0</td>\n",
       "      <td>1.0</td>\n",
       "      <td>1.0</td>\n",
       "      <td>25.0</td>\n",
       "      <td>0.0</td>\n",
       "      <td>0.0</td>\n",
       "      <td>1.0</td>\n",
       "      <td>0.0</td>\n",
       "      <td>1.0</td>\n",
       "      <td>...</td>\n",
       "      <td>1.0</td>\n",
       "      <td>0.0</td>\n",
       "      <td>5.0</td>\n",
       "      <td>15.0</td>\n",
       "      <td>0.0</td>\n",
       "      <td>1.0</td>\n",
       "      <td>0.0</td>\n",
       "      <td>13.0</td>\n",
       "      <td>6.0</td>\n",
       "      <td>4.0</td>\n",
       "    </tr>\n",
       "    <tr>\n",
       "      <th>253671</th>\n",
       "      <td>0.0</td>\n",
       "      <td>1.0</td>\n",
       "      <td>1.0</td>\n",
       "      <td>1.0</td>\n",
       "      <td>23.0</td>\n",
       "      <td>0.0</td>\n",
       "      <td>1.0</td>\n",
       "      <td>1.0</td>\n",
       "      <td>0.0</td>\n",
       "      <td>0.0</td>\n",
       "      <td>...</td>\n",
       "      <td>1.0</td>\n",
       "      <td>1.0</td>\n",
       "      <td>4.0</td>\n",
       "      <td>0.0</td>\n",
       "      <td>5.0</td>\n",
       "      <td>0.0</td>\n",
       "      <td>1.0</td>\n",
       "      <td>8.0</td>\n",
       "      <td>3.0</td>\n",
       "      <td>2.0</td>\n",
       "    </tr>\n",
       "    <tr>\n",
       "      <th>253672</th>\n",
       "      <td>0.0</td>\n",
       "      <td>1.0</td>\n",
       "      <td>0.0</td>\n",
       "      <td>1.0</td>\n",
       "      <td>30.0</td>\n",
       "      <td>1.0</td>\n",
       "      <td>0.0</td>\n",
       "      <td>1.0</td>\n",
       "      <td>1.0</td>\n",
       "      <td>1.0</td>\n",
       "      <td>...</td>\n",
       "      <td>1.0</td>\n",
       "      <td>0.0</td>\n",
       "      <td>3.0</td>\n",
       "      <td>0.0</td>\n",
       "      <td>0.0</td>\n",
       "      <td>0.0</td>\n",
       "      <td>1.0</td>\n",
       "      <td>12.0</td>\n",
       "      <td>2.0</td>\n",
       "      <td>1.0</td>\n",
       "    </tr>\n",
       "    <tr>\n",
       "      <th>253673</th>\n",
       "      <td>0.0</td>\n",
       "      <td>1.0</td>\n",
       "      <td>0.0</td>\n",
       "      <td>1.0</td>\n",
       "      <td>42.0</td>\n",
       "      <td>0.0</td>\n",
       "      <td>0.0</td>\n",
       "      <td>0.0</td>\n",
       "      <td>1.0</td>\n",
       "      <td>1.0</td>\n",
       "      <td>...</td>\n",
       "      <td>1.0</td>\n",
       "      <td>0.0</td>\n",
       "      <td>3.0</td>\n",
       "      <td>14.0</td>\n",
       "      <td>4.0</td>\n",
       "      <td>0.0</td>\n",
       "      <td>1.0</td>\n",
       "      <td>3.0</td>\n",
       "      <td>6.0</td>\n",
       "      <td>8.0</td>\n",
       "    </tr>\n",
       "    <tr>\n",
       "      <th>253674</th>\n",
       "      <td>0.0</td>\n",
       "      <td>0.0</td>\n",
       "      <td>0.0</td>\n",
       "      <td>1.0</td>\n",
       "      <td>27.0</td>\n",
       "      <td>0.0</td>\n",
       "      <td>0.0</td>\n",
       "      <td>0.0</td>\n",
       "      <td>0.0</td>\n",
       "      <td>0.0</td>\n",
       "      <td>...</td>\n",
       "      <td>1.0</td>\n",
       "      <td>0.0</td>\n",
       "      <td>1.0</td>\n",
       "      <td>0.0</td>\n",
       "      <td>0.0</td>\n",
       "      <td>0.0</td>\n",
       "      <td>0.0</td>\n",
       "      <td>3.0</td>\n",
       "      <td>6.0</td>\n",
       "      <td>5.0</td>\n",
       "    </tr>\n",
       "    <tr>\n",
       "      <th>253675</th>\n",
       "      <td>0.0</td>\n",
       "      <td>1.0</td>\n",
       "      <td>1.0</td>\n",
       "      <td>1.0</td>\n",
       "      <td>45.0</td>\n",
       "      <td>0.0</td>\n",
       "      <td>0.0</td>\n",
       "      <td>0.0</td>\n",
       "      <td>0.0</td>\n",
       "      <td>1.0</td>\n",
       "      <td>...</td>\n",
       "      <td>1.0</td>\n",
       "      <td>0.0</td>\n",
       "      <td>3.0</td>\n",
       "      <td>0.0</td>\n",
       "      <td>5.0</td>\n",
       "      <td>0.0</td>\n",
       "      <td>1.0</td>\n",
       "      <td>5.0</td>\n",
       "      <td>6.0</td>\n",
       "      <td>7.0</td>\n",
       "    </tr>\n",
       "    <tr>\n",
       "      <th>253676</th>\n",
       "      <td>1.0</td>\n",
       "      <td>1.0</td>\n",
       "      <td>1.0</td>\n",
       "      <td>1.0</td>\n",
       "      <td>18.0</td>\n",
       "      <td>0.0</td>\n",
       "      <td>0.0</td>\n",
       "      <td>0.0</td>\n",
       "      <td>0.0</td>\n",
       "      <td>0.0</td>\n",
       "      <td>...</td>\n",
       "      <td>1.0</td>\n",
       "      <td>0.0</td>\n",
       "      <td>4.0</td>\n",
       "      <td>0.0</td>\n",
       "      <td>0.0</td>\n",
       "      <td>1.0</td>\n",
       "      <td>0.0</td>\n",
       "      <td>11.0</td>\n",
       "      <td>2.0</td>\n",
       "      <td>4.0</td>\n",
       "    </tr>\n",
       "    <tr>\n",
       "      <th>253677</th>\n",
       "      <td>0.0</td>\n",
       "      <td>0.0</td>\n",
       "      <td>0.0</td>\n",
       "      <td>1.0</td>\n",
       "      <td>28.0</td>\n",
       "      <td>0.0</td>\n",
       "      <td>0.0</td>\n",
       "      <td>0.0</td>\n",
       "      <td>1.0</td>\n",
       "      <td>1.0</td>\n",
       "      <td>...</td>\n",
       "      <td>1.0</td>\n",
       "      <td>0.0</td>\n",
       "      <td>1.0</td>\n",
       "      <td>0.0</td>\n",
       "      <td>0.0</td>\n",
       "      <td>0.0</td>\n",
       "      <td>0.0</td>\n",
       "      <td>2.0</td>\n",
       "      <td>5.0</td>\n",
       "      <td>2.0</td>\n",
       "    </tr>\n",
       "    <tr>\n",
       "      <th>253678</th>\n",
       "      <td>0.0</td>\n",
       "      <td>1.0</td>\n",
       "      <td>0.0</td>\n",
       "      <td>1.0</td>\n",
       "      <td>23.0</td>\n",
       "      <td>0.0</td>\n",
       "      <td>0.0</td>\n",
       "      <td>0.0</td>\n",
       "      <td>0.0</td>\n",
       "      <td>1.0</td>\n",
       "      <td>...</td>\n",
       "      <td>1.0</td>\n",
       "      <td>0.0</td>\n",
       "      <td>3.0</td>\n",
       "      <td>0.0</td>\n",
       "      <td>0.0</td>\n",
       "      <td>0.0</td>\n",
       "      <td>1.0</td>\n",
       "      <td>7.0</td>\n",
       "      <td>5.0</td>\n",
       "      <td>1.0</td>\n",
       "    </tr>\n",
       "    <tr>\n",
       "      <th>253679</th>\n",
       "      <td>1.0</td>\n",
       "      <td>1.0</td>\n",
       "      <td>1.0</td>\n",
       "      <td>1.0</td>\n",
       "      <td>25.0</td>\n",
       "      <td>0.0</td>\n",
       "      <td>0.0</td>\n",
       "      <td>1.0</td>\n",
       "      <td>1.0</td>\n",
       "      <td>1.0</td>\n",
       "      <td>...</td>\n",
       "      <td>1.0</td>\n",
       "      <td>0.0</td>\n",
       "      <td>2.0</td>\n",
       "      <td>0.0</td>\n",
       "      <td>0.0</td>\n",
       "      <td>0.0</td>\n",
       "      <td>0.0</td>\n",
       "      <td>9.0</td>\n",
       "      <td>6.0</td>\n",
       "      <td>2.0</td>\n",
       "    </tr>\n",
       "  </tbody>\n",
       "</table>\n",
       "<p>10 rows × 22 columns</p>\n",
       "</div>"
      ],
      "text/plain": [
       "        Diabetes_binary  HighBP  HighChol  CholCheck   BMI  Smoker  Stroke  \\\n",
       "253670              1.0     1.0       1.0        1.0  25.0     0.0     0.0   \n",
       "253671              0.0     1.0       1.0        1.0  23.0     0.0     1.0   \n",
       "253672              0.0     1.0       0.0        1.0  30.0     1.0     0.0   \n",
       "253673              0.0     1.0       0.0        1.0  42.0     0.0     0.0   \n",
       "253674              0.0     0.0       0.0        1.0  27.0     0.0     0.0   \n",
       "253675              0.0     1.0       1.0        1.0  45.0     0.0     0.0   \n",
       "253676              1.0     1.0       1.0        1.0  18.0     0.0     0.0   \n",
       "253677              0.0     0.0       0.0        1.0  28.0     0.0     0.0   \n",
       "253678              0.0     1.0       0.0        1.0  23.0     0.0     0.0   \n",
       "253679              1.0     1.0       1.0        1.0  25.0     0.0     0.0   \n",
       "\n",
       "        HeartDiseaseorAttack  PhysActivity  Fruits  ...  AnyHealthcare  \\\n",
       "253670                   1.0           0.0     1.0  ...            1.0   \n",
       "253671                   1.0           0.0     0.0  ...            1.0   \n",
       "253672                   1.0           1.0     1.0  ...            1.0   \n",
       "253673                   0.0           1.0     1.0  ...            1.0   \n",
       "253674                   0.0           0.0     0.0  ...            1.0   \n",
       "253675                   0.0           0.0     1.0  ...            1.0   \n",
       "253676                   0.0           0.0     0.0  ...            1.0   \n",
       "253677                   0.0           1.0     1.0  ...            1.0   \n",
       "253678                   0.0           0.0     1.0  ...            1.0   \n",
       "253679                   1.0           1.0     1.0  ...            1.0   \n",
       "\n",
       "        NoDocbcCost  GenHlth  MentHlth  PhysHlth  DiffWalk  Sex   Age  \\\n",
       "253670          0.0      5.0      15.0       0.0       1.0  0.0  13.0   \n",
       "253671          1.0      4.0       0.0       5.0       0.0  1.0   8.0   \n",
       "253672          0.0      3.0       0.0       0.0       0.0  1.0  12.0   \n",
       "253673          0.0      3.0      14.0       4.0       0.0  1.0   3.0   \n",
       "253674          0.0      1.0       0.0       0.0       0.0  0.0   3.0   \n",
       "253675          0.0      3.0       0.0       5.0       0.0  1.0   5.0   \n",
       "253676          0.0      4.0       0.0       0.0       1.0  0.0  11.0   \n",
       "253677          0.0      1.0       0.0       0.0       0.0  0.0   2.0   \n",
       "253678          0.0      3.0       0.0       0.0       0.0  1.0   7.0   \n",
       "253679          0.0      2.0       0.0       0.0       0.0  0.0   9.0   \n",
       "\n",
       "        Education  Income  \n",
       "253670        6.0     4.0  \n",
       "253671        3.0     2.0  \n",
       "253672        2.0     1.0  \n",
       "253673        6.0     8.0  \n",
       "253674        6.0     5.0  \n",
       "253675        6.0     7.0  \n",
       "253676        2.0     4.0  \n",
       "253677        5.0     2.0  \n",
       "253678        5.0     1.0  \n",
       "253679        6.0     2.0  \n",
       "\n",
       "[10 rows x 22 columns]"
      ]
     },
     "execution_count": 4,
     "metadata": {},
     "output_type": "execute_result"
    }
   ],
   "source": [
    "#Menampilkan data terakhir (defaultnya menampilkan 5 data terakhir)\n",
    "data.tail(10)"
   ]
  },
  {
   "cell_type": "code",
   "execution_count": 5,
   "id": "17658f6e",
   "metadata": {},
   "outputs": [
    {
     "data": {
      "text/html": [
       "<div>\n",
       "<style scoped>\n",
       "    .dataframe tbody tr th:only-of-type {\n",
       "        vertical-align: middle;\n",
       "    }\n",
       "\n",
       "    .dataframe tbody tr th {\n",
       "        vertical-align: top;\n",
       "    }\n",
       "\n",
       "    .dataframe thead th {\n",
       "        text-align: right;\n",
       "    }\n",
       "</style>\n",
       "<table border=\"1\" class=\"dataframe\">\n",
       "  <thead>\n",
       "    <tr style=\"text-align: right;\">\n",
       "      <th></th>\n",
       "      <th>Diabetes_binary</th>\n",
       "      <th>HighBP</th>\n",
       "      <th>HighChol</th>\n",
       "      <th>CholCheck</th>\n",
       "      <th>BMI</th>\n",
       "      <th>Smoker</th>\n",
       "      <th>Stroke</th>\n",
       "      <th>HeartDiseaseorAttack</th>\n",
       "      <th>PhysActivity</th>\n",
       "      <th>Fruits</th>\n",
       "      <th>...</th>\n",
       "      <th>AnyHealthcare</th>\n",
       "      <th>NoDocbcCost</th>\n",
       "      <th>GenHlth</th>\n",
       "      <th>MentHlth</th>\n",
       "      <th>PhysHlth</th>\n",
       "      <th>DiffWalk</th>\n",
       "      <th>Sex</th>\n",
       "      <th>Age</th>\n",
       "      <th>Education</th>\n",
       "      <th>Income</th>\n",
       "    </tr>\n",
       "  </thead>\n",
       "  <tbody>\n",
       "    <tr>\n",
       "      <th>count</th>\n",
       "      <td>253680.000000</td>\n",
       "      <td>253680.000000</td>\n",
       "      <td>253680.000000</td>\n",
       "      <td>253680.000000</td>\n",
       "      <td>253680.000000</td>\n",
       "      <td>253680.000000</td>\n",
       "      <td>253680.000000</td>\n",
       "      <td>253680.000000</td>\n",
       "      <td>253680.000000</td>\n",
       "      <td>253680.000000</td>\n",
       "      <td>...</td>\n",
       "      <td>253680.000000</td>\n",
       "      <td>253680.000000</td>\n",
       "      <td>253680.000000</td>\n",
       "      <td>253680.000000</td>\n",
       "      <td>253680.000000</td>\n",
       "      <td>253680.000000</td>\n",
       "      <td>253680.000000</td>\n",
       "      <td>253680.000000</td>\n",
       "      <td>253680.000000</td>\n",
       "      <td>253680.000000</td>\n",
       "    </tr>\n",
       "    <tr>\n",
       "      <th>mean</th>\n",
       "      <td>0.139333</td>\n",
       "      <td>0.429001</td>\n",
       "      <td>0.424121</td>\n",
       "      <td>0.962670</td>\n",
       "      <td>28.382364</td>\n",
       "      <td>0.443169</td>\n",
       "      <td>0.040571</td>\n",
       "      <td>0.094186</td>\n",
       "      <td>0.756544</td>\n",
       "      <td>0.634256</td>\n",
       "      <td>...</td>\n",
       "      <td>0.951053</td>\n",
       "      <td>0.084177</td>\n",
       "      <td>2.511392</td>\n",
       "      <td>3.184772</td>\n",
       "      <td>4.242081</td>\n",
       "      <td>0.168224</td>\n",
       "      <td>0.440342</td>\n",
       "      <td>8.032119</td>\n",
       "      <td>5.050434</td>\n",
       "      <td>6.053875</td>\n",
       "    </tr>\n",
       "    <tr>\n",
       "      <th>std</th>\n",
       "      <td>0.346294</td>\n",
       "      <td>0.494934</td>\n",
       "      <td>0.494210</td>\n",
       "      <td>0.189571</td>\n",
       "      <td>6.608694</td>\n",
       "      <td>0.496761</td>\n",
       "      <td>0.197294</td>\n",
       "      <td>0.292087</td>\n",
       "      <td>0.429169</td>\n",
       "      <td>0.481639</td>\n",
       "      <td>...</td>\n",
       "      <td>0.215759</td>\n",
       "      <td>0.277654</td>\n",
       "      <td>1.068477</td>\n",
       "      <td>7.412847</td>\n",
       "      <td>8.717951</td>\n",
       "      <td>0.374066</td>\n",
       "      <td>0.496429</td>\n",
       "      <td>3.054220</td>\n",
       "      <td>0.985774</td>\n",
       "      <td>2.071148</td>\n",
       "    </tr>\n",
       "    <tr>\n",
       "      <th>min</th>\n",
       "      <td>0.000000</td>\n",
       "      <td>0.000000</td>\n",
       "      <td>0.000000</td>\n",
       "      <td>0.000000</td>\n",
       "      <td>12.000000</td>\n",
       "      <td>0.000000</td>\n",
       "      <td>0.000000</td>\n",
       "      <td>0.000000</td>\n",
       "      <td>0.000000</td>\n",
       "      <td>0.000000</td>\n",
       "      <td>...</td>\n",
       "      <td>0.000000</td>\n",
       "      <td>0.000000</td>\n",
       "      <td>1.000000</td>\n",
       "      <td>0.000000</td>\n",
       "      <td>0.000000</td>\n",
       "      <td>0.000000</td>\n",
       "      <td>0.000000</td>\n",
       "      <td>1.000000</td>\n",
       "      <td>1.000000</td>\n",
       "      <td>1.000000</td>\n",
       "    </tr>\n",
       "    <tr>\n",
       "      <th>25%</th>\n",
       "      <td>0.000000</td>\n",
       "      <td>0.000000</td>\n",
       "      <td>0.000000</td>\n",
       "      <td>1.000000</td>\n",
       "      <td>24.000000</td>\n",
       "      <td>0.000000</td>\n",
       "      <td>0.000000</td>\n",
       "      <td>0.000000</td>\n",
       "      <td>1.000000</td>\n",
       "      <td>0.000000</td>\n",
       "      <td>...</td>\n",
       "      <td>1.000000</td>\n",
       "      <td>0.000000</td>\n",
       "      <td>2.000000</td>\n",
       "      <td>0.000000</td>\n",
       "      <td>0.000000</td>\n",
       "      <td>0.000000</td>\n",
       "      <td>0.000000</td>\n",
       "      <td>6.000000</td>\n",
       "      <td>4.000000</td>\n",
       "      <td>5.000000</td>\n",
       "    </tr>\n",
       "    <tr>\n",
       "      <th>50%</th>\n",
       "      <td>0.000000</td>\n",
       "      <td>0.000000</td>\n",
       "      <td>0.000000</td>\n",
       "      <td>1.000000</td>\n",
       "      <td>27.000000</td>\n",
       "      <td>0.000000</td>\n",
       "      <td>0.000000</td>\n",
       "      <td>0.000000</td>\n",
       "      <td>1.000000</td>\n",
       "      <td>1.000000</td>\n",
       "      <td>...</td>\n",
       "      <td>1.000000</td>\n",
       "      <td>0.000000</td>\n",
       "      <td>2.000000</td>\n",
       "      <td>0.000000</td>\n",
       "      <td>0.000000</td>\n",
       "      <td>0.000000</td>\n",
       "      <td>0.000000</td>\n",
       "      <td>8.000000</td>\n",
       "      <td>5.000000</td>\n",
       "      <td>7.000000</td>\n",
       "    </tr>\n",
       "    <tr>\n",
       "      <th>75%</th>\n",
       "      <td>0.000000</td>\n",
       "      <td>1.000000</td>\n",
       "      <td>1.000000</td>\n",
       "      <td>1.000000</td>\n",
       "      <td>31.000000</td>\n",
       "      <td>1.000000</td>\n",
       "      <td>0.000000</td>\n",
       "      <td>0.000000</td>\n",
       "      <td>1.000000</td>\n",
       "      <td>1.000000</td>\n",
       "      <td>...</td>\n",
       "      <td>1.000000</td>\n",
       "      <td>0.000000</td>\n",
       "      <td>3.000000</td>\n",
       "      <td>2.000000</td>\n",
       "      <td>3.000000</td>\n",
       "      <td>0.000000</td>\n",
       "      <td>1.000000</td>\n",
       "      <td>10.000000</td>\n",
       "      <td>6.000000</td>\n",
       "      <td>8.000000</td>\n",
       "    </tr>\n",
       "    <tr>\n",
       "      <th>max</th>\n",
       "      <td>1.000000</td>\n",
       "      <td>1.000000</td>\n",
       "      <td>1.000000</td>\n",
       "      <td>1.000000</td>\n",
       "      <td>98.000000</td>\n",
       "      <td>1.000000</td>\n",
       "      <td>1.000000</td>\n",
       "      <td>1.000000</td>\n",
       "      <td>1.000000</td>\n",
       "      <td>1.000000</td>\n",
       "      <td>...</td>\n",
       "      <td>1.000000</td>\n",
       "      <td>1.000000</td>\n",
       "      <td>5.000000</td>\n",
       "      <td>30.000000</td>\n",
       "      <td>30.000000</td>\n",
       "      <td>1.000000</td>\n",
       "      <td>1.000000</td>\n",
       "      <td>13.000000</td>\n",
       "      <td>6.000000</td>\n",
       "      <td>8.000000</td>\n",
       "    </tr>\n",
       "  </tbody>\n",
       "</table>\n",
       "<p>8 rows × 22 columns</p>\n",
       "</div>"
      ],
      "text/plain": [
       "       Diabetes_binary         HighBP       HighChol      CholCheck  \\\n",
       "count    253680.000000  253680.000000  253680.000000  253680.000000   \n",
       "mean          0.139333       0.429001       0.424121       0.962670   \n",
       "std           0.346294       0.494934       0.494210       0.189571   \n",
       "min           0.000000       0.000000       0.000000       0.000000   \n",
       "25%           0.000000       0.000000       0.000000       1.000000   \n",
       "50%           0.000000       0.000000       0.000000       1.000000   \n",
       "75%           0.000000       1.000000       1.000000       1.000000   \n",
       "max           1.000000       1.000000       1.000000       1.000000   \n",
       "\n",
       "                 BMI         Smoker         Stroke  HeartDiseaseorAttack  \\\n",
       "count  253680.000000  253680.000000  253680.000000         253680.000000   \n",
       "mean       28.382364       0.443169       0.040571              0.094186   \n",
       "std         6.608694       0.496761       0.197294              0.292087   \n",
       "min        12.000000       0.000000       0.000000              0.000000   \n",
       "25%        24.000000       0.000000       0.000000              0.000000   \n",
       "50%        27.000000       0.000000       0.000000              0.000000   \n",
       "75%        31.000000       1.000000       0.000000              0.000000   \n",
       "max        98.000000       1.000000       1.000000              1.000000   \n",
       "\n",
       "        PhysActivity         Fruits  ...  AnyHealthcare    NoDocbcCost  \\\n",
       "count  253680.000000  253680.000000  ...  253680.000000  253680.000000   \n",
       "mean        0.756544       0.634256  ...       0.951053       0.084177   \n",
       "std         0.429169       0.481639  ...       0.215759       0.277654   \n",
       "min         0.000000       0.000000  ...       0.000000       0.000000   \n",
       "25%         1.000000       0.000000  ...       1.000000       0.000000   \n",
       "50%         1.000000       1.000000  ...       1.000000       0.000000   \n",
       "75%         1.000000       1.000000  ...       1.000000       0.000000   \n",
       "max         1.000000       1.000000  ...       1.000000       1.000000   \n",
       "\n",
       "             GenHlth       MentHlth       PhysHlth       DiffWalk  \\\n",
       "count  253680.000000  253680.000000  253680.000000  253680.000000   \n",
       "mean        2.511392       3.184772       4.242081       0.168224   \n",
       "std         1.068477       7.412847       8.717951       0.374066   \n",
       "min         1.000000       0.000000       0.000000       0.000000   \n",
       "25%         2.000000       0.000000       0.000000       0.000000   \n",
       "50%         2.000000       0.000000       0.000000       0.000000   \n",
       "75%         3.000000       2.000000       3.000000       0.000000   \n",
       "max         5.000000      30.000000      30.000000       1.000000   \n",
       "\n",
       "                 Sex            Age      Education         Income  \n",
       "count  253680.000000  253680.000000  253680.000000  253680.000000  \n",
       "mean        0.440342       8.032119       5.050434       6.053875  \n",
       "std         0.496429       3.054220       0.985774       2.071148  \n",
       "min         0.000000       1.000000       1.000000       1.000000  \n",
       "25%         0.000000       6.000000       4.000000       5.000000  \n",
       "50%         0.000000       8.000000       5.000000       7.000000  \n",
       "75%         1.000000      10.000000       6.000000       8.000000  \n",
       "max         1.000000      13.000000       6.000000       8.000000  \n",
       "\n",
       "[8 rows x 22 columns]"
      ]
     },
     "execution_count": 5,
     "metadata": {},
     "output_type": "execute_result"
    }
   ],
   "source": [
    "#Menampilkan statistika deskriptif dari dataset\n",
    "data.describe()"
   ]
  },
  {
   "cell_type": "code",
   "execution_count": 71,
   "id": "de8c50cf",
   "metadata": {},
   "outputs": [
    {
     "data": {
      "text/plain": [
       "(253680, 22)"
      ]
     },
     "execution_count": 71,
     "metadata": {},
     "output_type": "execute_result"
    }
   ],
   "source": [
    "#Melihat ukuran dataset (baris, kolom)\n",
    "data.shape"
   ]
  },
  {
   "cell_type": "code",
   "execution_count": 6,
   "id": "558e0fba",
   "metadata": {},
   "outputs": [
    {
     "data": {
      "text/plain": [
       "Diabetes_binary         float64\n",
       "HighBP                  float64\n",
       "HighChol                float64\n",
       "CholCheck               float64\n",
       "BMI                     float64\n",
       "Smoker                  float64\n",
       "Stroke                  float64\n",
       "HeartDiseaseorAttack    float64\n",
       "PhysActivity            float64\n",
       "Fruits                  float64\n",
       "Veggies                 float64\n",
       "HvyAlcoholConsump       float64\n",
       "AnyHealthcare           float64\n",
       "NoDocbcCost             float64\n",
       "GenHlth                 float64\n",
       "MentHlth                float64\n",
       "PhysHlth                float64\n",
       "DiffWalk                float64\n",
       "Sex                     float64\n",
       "Age                     float64\n",
       "Education               float64\n",
       "Income                  float64\n",
       "dtype: object"
      ]
     },
     "execution_count": 6,
     "metadata": {},
     "output_type": "execute_result"
    }
   ],
   "source": [
    "#Melihat tipe data dari variabel (kolom) pada dataset\n",
    "data.dtypes"
   ]
  },
  {
   "cell_type": "code",
   "execution_count": 7,
   "id": "4b22b3d5",
   "metadata": {},
   "outputs": [
    {
     "name": "stdout",
     "output_type": "stream",
     "text": [
      "<class 'pandas.core.frame.DataFrame'>\n",
      "RangeIndex: 253680 entries, 0 to 253679\n",
      "Data columns (total 22 columns):\n",
      " #   Column                Non-Null Count   Dtype  \n",
      "---  ------                --------------   -----  \n",
      " 0   Diabetes_binary       253680 non-null  float64\n",
      " 1   HighBP                253680 non-null  float64\n",
      " 2   HighChol              253680 non-null  float64\n",
      " 3   CholCheck             253680 non-null  float64\n",
      " 4   BMI                   253680 non-null  float64\n",
      " 5   Smoker                253680 non-null  float64\n",
      " 6   Stroke                253680 non-null  float64\n",
      " 7   HeartDiseaseorAttack  253680 non-null  float64\n",
      " 8   PhysActivity          253680 non-null  float64\n",
      " 9   Fruits                253680 non-null  float64\n",
      " 10  Veggies               253680 non-null  float64\n",
      " 11  HvyAlcoholConsump     253680 non-null  float64\n",
      " 12  AnyHealthcare         253680 non-null  float64\n",
      " 13  NoDocbcCost           253680 non-null  float64\n",
      " 14  GenHlth               253680 non-null  float64\n",
      " 15  MentHlth              253680 non-null  float64\n",
      " 16  PhysHlth              253680 non-null  float64\n",
      " 17  DiffWalk              253680 non-null  float64\n",
      " 18  Sex                   253680 non-null  float64\n",
      " 19  Age                   253680 non-null  float64\n",
      " 20  Education             253680 non-null  float64\n",
      " 21  Income                253680 non-null  float64\n",
      "dtypes: float64(22)\n",
      "memory usage: 42.6 MB\n"
     ]
    }
   ],
   "source": [
    "#Menampilkan informasi dari dataset\n",
    "data.info()"
   ]
  },
  {
   "cell_type": "code",
   "execution_count": 8,
   "id": "d48b3668",
   "metadata": {},
   "outputs": [
    {
     "name": "stdout",
     "output_type": "stream",
     "text": [
      "Kolom Diabetes_binary: [0. 1.]\n",
      "Kolom HighBP: [1. 0.]\n",
      "Kolom HighChol: [1. 0.]\n",
      "Kolom CholCheck: [1. 0.]\n",
      "Kolom BMI: [40. 25. 28. 27. 24. 30. 34. 26. 33. 21. 23. 22. 38. 32. 37. 31. 29. 20.\n",
      " 35. 45. 39. 19. 47. 18. 36. 43. 55. 49. 42. 17. 16. 41. 44. 50. 59. 48.\n",
      " 52. 46. 54. 57. 53. 14. 15. 51. 58. 63. 61. 56. 74. 62. 64. 66. 73. 85.\n",
      " 60. 67. 65. 70. 82. 79. 92. 68. 72. 88. 96. 13. 81. 71. 75. 12. 77. 69.\n",
      " 76. 87. 89. 84. 95. 98. 91. 86. 83. 80. 90. 78.]\n",
      "Kolom Smoker: [1. 0.]\n",
      "Kolom Stroke: [0. 1.]\n",
      "Kolom HeartDiseaseorAttack: [0. 1.]\n",
      "Kolom PhysActivity: [0. 1.]\n",
      "Kolom Fruits: [0. 1.]\n",
      "Kolom Veggies: [1. 0.]\n",
      "Kolom HvyAlcoholConsump: [0. 1.]\n",
      "Kolom AnyHealthcare: [1. 0.]\n",
      "Kolom NoDocbcCost: [0. 1.]\n",
      "Kolom GenHlth: [5. 3. 2. 4. 1.]\n",
      "Kolom MentHlth: [18.  0. 30.  3.  5. 15. 10.  6. 20.  2. 25.  1.  4.  7.  8. 21. 14. 26.\n",
      " 29. 16. 28. 11. 12. 24. 17. 13. 27. 19. 22.  9. 23.]\n",
      "Kolom PhysHlth: [15.  0. 30.  2. 14. 28.  7. 20.  3. 10.  1.  5. 17.  4. 19.  6. 12. 25.\n",
      " 27. 21. 22.  8. 29. 24.  9. 16. 18. 23. 13. 26. 11.]\n",
      "Kolom DiffWalk: [1. 0.]\n",
      "Kolom Sex: [0. 1.]\n",
      "Kolom Age: [ 9.  7. 11. 10.  8. 13.  4.  6.  2. 12.  5.  1.  3.]\n",
      "Kolom Education: [4. 6. 3. 5. 2. 1.]\n",
      "Kolom Income: [3. 1. 8. 6. 4. 7. 2. 5.]\n"
     ]
    }
   ],
   "source": [
    "#Untuk menampilkan array yang berisi nilai dari kolom dataset\n",
    "for columns in data.columns:\n",
    "    unique_values = data[columns].unique()\n",
    "    print(f'Kolom {columns}: {unique_values}')"
   ]
  },
  {
   "cell_type": "markdown",
   "id": "d2917995",
   "metadata": {},
   "source": [
    "# Data Normalisasi"
   ]
  },
  {
   "cell_type": "markdown",
   "id": "883fad5f",
   "metadata": {},
   "source": [
    "Normalisasi pada data dilakukan untuk mengubah data asli menjadi dalam bentuk yang lebih efisien dan memiliki struktur yang bagus, dimana data berada dalam rentang yang lebih kecil seperti -1 hingga 1 atau 0 hingga 1. Sehingga data yang sudah di normalisasi memungkinkan untuk di analisis menggunakan metode tertentu."
   ]
  },
  {
   "cell_type": "code",
   "execution_count": 9,
   "id": "10be1ca5",
   "metadata": {},
   "outputs": [
    {
     "data": {
      "text/html": [
       "<div>\n",
       "<style scoped>\n",
       "    .dataframe tbody tr th:only-of-type {\n",
       "        vertical-align: middle;\n",
       "    }\n",
       "\n",
       "    .dataframe tbody tr th {\n",
       "        vertical-align: top;\n",
       "    }\n",
       "\n",
       "    .dataframe thead th {\n",
       "        text-align: right;\n",
       "    }\n",
       "</style>\n",
       "<table border=\"1\" class=\"dataframe\">\n",
       "  <thead>\n",
       "    <tr style=\"text-align: right;\">\n",
       "      <th></th>\n",
       "      <th>Diabetes_binary</th>\n",
       "      <th>HighBP</th>\n",
       "      <th>HighChol</th>\n",
       "      <th>CholCheck</th>\n",
       "      <th>BMI</th>\n",
       "      <th>Smoker</th>\n",
       "      <th>Stroke</th>\n",
       "      <th>HeartDiseaseorAttack</th>\n",
       "      <th>PhysActivity</th>\n",
       "      <th>Fruits</th>\n",
       "      <th>...</th>\n",
       "      <th>AnyHealthcare</th>\n",
       "      <th>NoDocbcCost</th>\n",
       "      <th>GenHlth</th>\n",
       "      <th>MentHlth</th>\n",
       "      <th>PhysHlth</th>\n",
       "      <th>DiffWalk</th>\n",
       "      <th>Sex</th>\n",
       "      <th>Age</th>\n",
       "      <th>Education</th>\n",
       "      <th>Income</th>\n",
       "    </tr>\n",
       "  </thead>\n",
       "  <tbody>\n",
       "    <tr>\n",
       "      <th>0</th>\n",
       "      <td>0.0</td>\n",
       "      <td>1.0</td>\n",
       "      <td>1.0</td>\n",
       "      <td>1.0</td>\n",
       "      <td>0.325581</td>\n",
       "      <td>1.0</td>\n",
       "      <td>0.0</td>\n",
       "      <td>0.0</td>\n",
       "      <td>0.0</td>\n",
       "      <td>0.0</td>\n",
       "      <td>...</td>\n",
       "      <td>1.0</td>\n",
       "      <td>0.0</td>\n",
       "      <td>1.00</td>\n",
       "      <td>0.6</td>\n",
       "      <td>0.500000</td>\n",
       "      <td>1.0</td>\n",
       "      <td>0.0</td>\n",
       "      <td>0.666667</td>\n",
       "      <td>0.6</td>\n",
       "      <td>0.285714</td>\n",
       "    </tr>\n",
       "    <tr>\n",
       "      <th>1</th>\n",
       "      <td>0.0</td>\n",
       "      <td>0.0</td>\n",
       "      <td>0.0</td>\n",
       "      <td>0.0</td>\n",
       "      <td>0.151163</td>\n",
       "      <td>1.0</td>\n",
       "      <td>0.0</td>\n",
       "      <td>0.0</td>\n",
       "      <td>1.0</td>\n",
       "      <td>0.0</td>\n",
       "      <td>...</td>\n",
       "      <td>0.0</td>\n",
       "      <td>1.0</td>\n",
       "      <td>0.50</td>\n",
       "      <td>0.0</td>\n",
       "      <td>0.000000</td>\n",
       "      <td>0.0</td>\n",
       "      <td>0.0</td>\n",
       "      <td>0.500000</td>\n",
       "      <td>1.0</td>\n",
       "      <td>0.000000</td>\n",
       "    </tr>\n",
       "    <tr>\n",
       "      <th>2</th>\n",
       "      <td>0.0</td>\n",
       "      <td>1.0</td>\n",
       "      <td>1.0</td>\n",
       "      <td>1.0</td>\n",
       "      <td>0.186047</td>\n",
       "      <td>0.0</td>\n",
       "      <td>0.0</td>\n",
       "      <td>0.0</td>\n",
       "      <td>0.0</td>\n",
       "      <td>1.0</td>\n",
       "      <td>...</td>\n",
       "      <td>1.0</td>\n",
       "      <td>1.0</td>\n",
       "      <td>1.00</td>\n",
       "      <td>1.0</td>\n",
       "      <td>1.000000</td>\n",
       "      <td>1.0</td>\n",
       "      <td>0.0</td>\n",
       "      <td>0.666667</td>\n",
       "      <td>0.6</td>\n",
       "      <td>1.000000</td>\n",
       "    </tr>\n",
       "    <tr>\n",
       "      <th>3</th>\n",
       "      <td>0.0</td>\n",
       "      <td>1.0</td>\n",
       "      <td>0.0</td>\n",
       "      <td>1.0</td>\n",
       "      <td>0.174419</td>\n",
       "      <td>0.0</td>\n",
       "      <td>0.0</td>\n",
       "      <td>0.0</td>\n",
       "      <td>1.0</td>\n",
       "      <td>1.0</td>\n",
       "      <td>...</td>\n",
       "      <td>1.0</td>\n",
       "      <td>0.0</td>\n",
       "      <td>0.25</td>\n",
       "      <td>0.0</td>\n",
       "      <td>0.000000</td>\n",
       "      <td>0.0</td>\n",
       "      <td>0.0</td>\n",
       "      <td>0.833333</td>\n",
       "      <td>0.4</td>\n",
       "      <td>0.714286</td>\n",
       "    </tr>\n",
       "    <tr>\n",
       "      <th>4</th>\n",
       "      <td>0.0</td>\n",
       "      <td>1.0</td>\n",
       "      <td>1.0</td>\n",
       "      <td>1.0</td>\n",
       "      <td>0.139535</td>\n",
       "      <td>0.0</td>\n",
       "      <td>0.0</td>\n",
       "      <td>0.0</td>\n",
       "      <td>1.0</td>\n",
       "      <td>1.0</td>\n",
       "      <td>...</td>\n",
       "      <td>1.0</td>\n",
       "      <td>0.0</td>\n",
       "      <td>0.25</td>\n",
       "      <td>0.1</td>\n",
       "      <td>0.000000</td>\n",
       "      <td>0.0</td>\n",
       "      <td>0.0</td>\n",
       "      <td>0.833333</td>\n",
       "      <td>0.8</td>\n",
       "      <td>0.428571</td>\n",
       "    </tr>\n",
       "    <tr>\n",
       "      <th>5</th>\n",
       "      <td>0.0</td>\n",
       "      <td>1.0</td>\n",
       "      <td>1.0</td>\n",
       "      <td>1.0</td>\n",
       "      <td>0.151163</td>\n",
       "      <td>1.0</td>\n",
       "      <td>0.0</td>\n",
       "      <td>0.0</td>\n",
       "      <td>1.0</td>\n",
       "      <td>1.0</td>\n",
       "      <td>...</td>\n",
       "      <td>1.0</td>\n",
       "      <td>0.0</td>\n",
       "      <td>0.25</td>\n",
       "      <td>0.0</td>\n",
       "      <td>0.066667</td>\n",
       "      <td>0.0</td>\n",
       "      <td>1.0</td>\n",
       "      <td>0.750000</td>\n",
       "      <td>1.0</td>\n",
       "      <td>1.000000</td>\n",
       "    </tr>\n",
       "    <tr>\n",
       "      <th>6</th>\n",
       "      <td>0.0</td>\n",
       "      <td>1.0</td>\n",
       "      <td>0.0</td>\n",
       "      <td>1.0</td>\n",
       "      <td>0.209302</td>\n",
       "      <td>1.0</td>\n",
       "      <td>0.0</td>\n",
       "      <td>0.0</td>\n",
       "      <td>0.0</td>\n",
       "      <td>0.0</td>\n",
       "      <td>...</td>\n",
       "      <td>1.0</td>\n",
       "      <td>0.0</td>\n",
       "      <td>0.50</td>\n",
       "      <td>0.0</td>\n",
       "      <td>0.466667</td>\n",
       "      <td>0.0</td>\n",
       "      <td>0.0</td>\n",
       "      <td>0.666667</td>\n",
       "      <td>1.0</td>\n",
       "      <td>0.857143</td>\n",
       "    </tr>\n",
       "    <tr>\n",
       "      <th>7</th>\n",
       "      <td>0.0</td>\n",
       "      <td>1.0</td>\n",
       "      <td>1.0</td>\n",
       "      <td>1.0</td>\n",
       "      <td>0.151163</td>\n",
       "      <td>1.0</td>\n",
       "      <td>0.0</td>\n",
       "      <td>0.0</td>\n",
       "      <td>1.0</td>\n",
       "      <td>0.0</td>\n",
       "      <td>...</td>\n",
       "      <td>1.0</td>\n",
       "      <td>0.0</td>\n",
       "      <td>0.50</td>\n",
       "      <td>0.0</td>\n",
       "      <td>0.000000</td>\n",
       "      <td>1.0</td>\n",
       "      <td>0.0</td>\n",
       "      <td>0.833333</td>\n",
       "      <td>0.6</td>\n",
       "      <td>0.428571</td>\n",
       "    </tr>\n",
       "    <tr>\n",
       "      <th>8</th>\n",
       "      <td>1.0</td>\n",
       "      <td>1.0</td>\n",
       "      <td>1.0</td>\n",
       "      <td>1.0</td>\n",
       "      <td>0.209302</td>\n",
       "      <td>1.0</td>\n",
       "      <td>0.0</td>\n",
       "      <td>1.0</td>\n",
       "      <td>0.0</td>\n",
       "      <td>1.0</td>\n",
       "      <td>...</td>\n",
       "      <td>1.0</td>\n",
       "      <td>0.0</td>\n",
       "      <td>1.00</td>\n",
       "      <td>1.0</td>\n",
       "      <td>1.000000</td>\n",
       "      <td>1.0</td>\n",
       "      <td>0.0</td>\n",
       "      <td>0.666667</td>\n",
       "      <td>0.8</td>\n",
       "      <td>0.000000</td>\n",
       "    </tr>\n",
       "    <tr>\n",
       "      <th>9</th>\n",
       "      <td>0.0</td>\n",
       "      <td>0.0</td>\n",
       "      <td>0.0</td>\n",
       "      <td>1.0</td>\n",
       "      <td>0.139535</td>\n",
       "      <td>0.0</td>\n",
       "      <td>0.0</td>\n",
       "      <td>0.0</td>\n",
       "      <td>0.0</td>\n",
       "      <td>0.0</td>\n",
       "      <td>...</td>\n",
       "      <td>1.0</td>\n",
       "      <td>0.0</td>\n",
       "      <td>0.25</td>\n",
       "      <td>0.0</td>\n",
       "      <td>0.000000</td>\n",
       "      <td>0.0</td>\n",
       "      <td>1.0</td>\n",
       "      <td>0.583333</td>\n",
       "      <td>0.6</td>\n",
       "      <td>0.285714</td>\n",
       "    </tr>\n",
       "  </tbody>\n",
       "</table>\n",
       "<p>10 rows × 22 columns</p>\n",
       "</div>"
      ],
      "text/plain": [
       "   Diabetes_binary  HighBP  HighChol  CholCheck       BMI  Smoker  Stroke  \\\n",
       "0              0.0     1.0       1.0        1.0  0.325581     1.0     0.0   \n",
       "1              0.0     0.0       0.0        0.0  0.151163     1.0     0.0   \n",
       "2              0.0     1.0       1.0        1.0  0.186047     0.0     0.0   \n",
       "3              0.0     1.0       0.0        1.0  0.174419     0.0     0.0   \n",
       "4              0.0     1.0       1.0        1.0  0.139535     0.0     0.0   \n",
       "5              0.0     1.0       1.0        1.0  0.151163     1.0     0.0   \n",
       "6              0.0     1.0       0.0        1.0  0.209302     1.0     0.0   \n",
       "7              0.0     1.0       1.0        1.0  0.151163     1.0     0.0   \n",
       "8              1.0     1.0       1.0        1.0  0.209302     1.0     0.0   \n",
       "9              0.0     0.0       0.0        1.0  0.139535     0.0     0.0   \n",
       "\n",
       "   HeartDiseaseorAttack  PhysActivity  Fruits  ...  AnyHealthcare  \\\n",
       "0                   0.0           0.0     0.0  ...            1.0   \n",
       "1                   0.0           1.0     0.0  ...            0.0   \n",
       "2                   0.0           0.0     1.0  ...            1.0   \n",
       "3                   0.0           1.0     1.0  ...            1.0   \n",
       "4                   0.0           1.0     1.0  ...            1.0   \n",
       "5                   0.0           1.0     1.0  ...            1.0   \n",
       "6                   0.0           0.0     0.0  ...            1.0   \n",
       "7                   0.0           1.0     0.0  ...            1.0   \n",
       "8                   1.0           0.0     1.0  ...            1.0   \n",
       "9                   0.0           0.0     0.0  ...            1.0   \n",
       "\n",
       "   NoDocbcCost  GenHlth  MentHlth  PhysHlth  DiffWalk  Sex       Age  \\\n",
       "0          0.0     1.00       0.6  0.500000       1.0  0.0  0.666667   \n",
       "1          1.0     0.50       0.0  0.000000       0.0  0.0  0.500000   \n",
       "2          1.0     1.00       1.0  1.000000       1.0  0.0  0.666667   \n",
       "3          0.0     0.25       0.0  0.000000       0.0  0.0  0.833333   \n",
       "4          0.0     0.25       0.1  0.000000       0.0  0.0  0.833333   \n",
       "5          0.0     0.25       0.0  0.066667       0.0  1.0  0.750000   \n",
       "6          0.0     0.50       0.0  0.466667       0.0  0.0  0.666667   \n",
       "7          0.0     0.50       0.0  0.000000       1.0  0.0  0.833333   \n",
       "8          0.0     1.00       1.0  1.000000       1.0  0.0  0.666667   \n",
       "9          0.0     0.25       0.0  0.000000       0.0  1.0  0.583333   \n",
       "\n",
       "   Education    Income  \n",
       "0        0.6  0.285714  \n",
       "1        1.0  0.000000  \n",
       "2        0.6  1.000000  \n",
       "3        0.4  0.714286  \n",
       "4        0.8  0.428571  \n",
       "5        1.0  1.000000  \n",
       "6        1.0  0.857143  \n",
       "7        0.6  0.428571  \n",
       "8        0.8  0.000000  \n",
       "9        0.6  0.285714  \n",
       "\n",
       "[10 rows x 22 columns]"
      ]
     },
     "execution_count": 9,
     "metadata": {},
     "output_type": "execute_result"
    }
   ],
   "source": [
    "from sklearn import preprocessing\n",
    "\n",
    "scaler = preprocessing.MinMaxScaler()\n",
    "d = scaler.fit_transform(data)\n",
    "data_normalisasi = pd.DataFrame(d, columns = data.columns)\n",
    "data_normalisasi.head(10)"
   ]
  },
  {
   "cell_type": "code",
   "execution_count": 10,
   "id": "19f8484b",
   "metadata": {},
   "outputs": [],
   "source": [
    "#Menjadikan X sebagai data predictor dan y sebagai data target\n",
    "X = data_normalisasi.drop(['Diabetes_binary'], axis = 1)  #X adalah semua kolom pada dataset 'data_normalisasi' kecuali kolom 'Diabetes_binary'\n",
    "y = data_normalisasi['Diabetes_binary']"
   ]
  },
  {
   "cell_type": "code",
   "execution_count": 11,
   "id": "01a03eb6",
   "metadata": {},
   "outputs": [
    {
     "data": {
      "text/html": [
       "<div>\n",
       "<style scoped>\n",
       "    .dataframe tbody tr th:only-of-type {\n",
       "        vertical-align: middle;\n",
       "    }\n",
       "\n",
       "    .dataframe tbody tr th {\n",
       "        vertical-align: top;\n",
       "    }\n",
       "\n",
       "    .dataframe thead th {\n",
       "        text-align: right;\n",
       "    }\n",
       "</style>\n",
       "<table border=\"1\" class=\"dataframe\">\n",
       "  <thead>\n",
       "    <tr style=\"text-align: right;\">\n",
       "      <th></th>\n",
       "      <th>HighBP</th>\n",
       "      <th>HighChol</th>\n",
       "      <th>CholCheck</th>\n",
       "      <th>BMI</th>\n",
       "      <th>Smoker</th>\n",
       "      <th>Stroke</th>\n",
       "      <th>HeartDiseaseorAttack</th>\n",
       "      <th>PhysActivity</th>\n",
       "      <th>Fruits</th>\n",
       "      <th>Veggies</th>\n",
       "      <th>...</th>\n",
       "      <th>AnyHealthcare</th>\n",
       "      <th>NoDocbcCost</th>\n",
       "      <th>GenHlth</th>\n",
       "      <th>MentHlth</th>\n",
       "      <th>PhysHlth</th>\n",
       "      <th>DiffWalk</th>\n",
       "      <th>Sex</th>\n",
       "      <th>Age</th>\n",
       "      <th>Education</th>\n",
       "      <th>Income</th>\n",
       "    </tr>\n",
       "  </thead>\n",
       "  <tbody>\n",
       "    <tr>\n",
       "      <th>0</th>\n",
       "      <td>1.0</td>\n",
       "      <td>1.0</td>\n",
       "      <td>1.0</td>\n",
       "      <td>0.325581</td>\n",
       "      <td>1.0</td>\n",
       "      <td>0.0</td>\n",
       "      <td>0.0</td>\n",
       "      <td>0.0</td>\n",
       "      <td>0.0</td>\n",
       "      <td>1.0</td>\n",
       "      <td>...</td>\n",
       "      <td>1.0</td>\n",
       "      <td>0.0</td>\n",
       "      <td>1.00</td>\n",
       "      <td>0.6</td>\n",
       "      <td>0.5</td>\n",
       "      <td>1.0</td>\n",
       "      <td>0.0</td>\n",
       "      <td>0.666667</td>\n",
       "      <td>0.6</td>\n",
       "      <td>0.285714</td>\n",
       "    </tr>\n",
       "    <tr>\n",
       "      <th>1</th>\n",
       "      <td>0.0</td>\n",
       "      <td>0.0</td>\n",
       "      <td>0.0</td>\n",
       "      <td>0.151163</td>\n",
       "      <td>1.0</td>\n",
       "      <td>0.0</td>\n",
       "      <td>0.0</td>\n",
       "      <td>1.0</td>\n",
       "      <td>0.0</td>\n",
       "      <td>0.0</td>\n",
       "      <td>...</td>\n",
       "      <td>0.0</td>\n",
       "      <td>1.0</td>\n",
       "      <td>0.50</td>\n",
       "      <td>0.0</td>\n",
       "      <td>0.0</td>\n",
       "      <td>0.0</td>\n",
       "      <td>0.0</td>\n",
       "      <td>0.500000</td>\n",
       "      <td>1.0</td>\n",
       "      <td>0.000000</td>\n",
       "    </tr>\n",
       "    <tr>\n",
       "      <th>2</th>\n",
       "      <td>1.0</td>\n",
       "      <td>1.0</td>\n",
       "      <td>1.0</td>\n",
       "      <td>0.186047</td>\n",
       "      <td>0.0</td>\n",
       "      <td>0.0</td>\n",
       "      <td>0.0</td>\n",
       "      <td>0.0</td>\n",
       "      <td>1.0</td>\n",
       "      <td>0.0</td>\n",
       "      <td>...</td>\n",
       "      <td>1.0</td>\n",
       "      <td>1.0</td>\n",
       "      <td>1.00</td>\n",
       "      <td>1.0</td>\n",
       "      <td>1.0</td>\n",
       "      <td>1.0</td>\n",
       "      <td>0.0</td>\n",
       "      <td>0.666667</td>\n",
       "      <td>0.6</td>\n",
       "      <td>1.000000</td>\n",
       "    </tr>\n",
       "    <tr>\n",
       "      <th>3</th>\n",
       "      <td>1.0</td>\n",
       "      <td>0.0</td>\n",
       "      <td>1.0</td>\n",
       "      <td>0.174419</td>\n",
       "      <td>0.0</td>\n",
       "      <td>0.0</td>\n",
       "      <td>0.0</td>\n",
       "      <td>1.0</td>\n",
       "      <td>1.0</td>\n",
       "      <td>1.0</td>\n",
       "      <td>...</td>\n",
       "      <td>1.0</td>\n",
       "      <td>0.0</td>\n",
       "      <td>0.25</td>\n",
       "      <td>0.0</td>\n",
       "      <td>0.0</td>\n",
       "      <td>0.0</td>\n",
       "      <td>0.0</td>\n",
       "      <td>0.833333</td>\n",
       "      <td>0.4</td>\n",
       "      <td>0.714286</td>\n",
       "    </tr>\n",
       "    <tr>\n",
       "      <th>4</th>\n",
       "      <td>1.0</td>\n",
       "      <td>1.0</td>\n",
       "      <td>1.0</td>\n",
       "      <td>0.139535</td>\n",
       "      <td>0.0</td>\n",
       "      <td>0.0</td>\n",
       "      <td>0.0</td>\n",
       "      <td>1.0</td>\n",
       "      <td>1.0</td>\n",
       "      <td>1.0</td>\n",
       "      <td>...</td>\n",
       "      <td>1.0</td>\n",
       "      <td>0.0</td>\n",
       "      <td>0.25</td>\n",
       "      <td>0.1</td>\n",
       "      <td>0.0</td>\n",
       "      <td>0.0</td>\n",
       "      <td>0.0</td>\n",
       "      <td>0.833333</td>\n",
       "      <td>0.8</td>\n",
       "      <td>0.428571</td>\n",
       "    </tr>\n",
       "  </tbody>\n",
       "</table>\n",
       "<p>5 rows × 21 columns</p>\n",
       "</div>"
      ],
      "text/plain": [
       "   HighBP  HighChol  CholCheck       BMI  Smoker  Stroke  \\\n",
       "0     1.0       1.0        1.0  0.325581     1.0     0.0   \n",
       "1     0.0       0.0        0.0  0.151163     1.0     0.0   \n",
       "2     1.0       1.0        1.0  0.186047     0.0     0.0   \n",
       "3     1.0       0.0        1.0  0.174419     0.0     0.0   \n",
       "4     1.0       1.0        1.0  0.139535     0.0     0.0   \n",
       "\n",
       "   HeartDiseaseorAttack  PhysActivity  Fruits  Veggies  ...  AnyHealthcare  \\\n",
       "0                   0.0           0.0     0.0      1.0  ...            1.0   \n",
       "1                   0.0           1.0     0.0      0.0  ...            0.0   \n",
       "2                   0.0           0.0     1.0      0.0  ...            1.0   \n",
       "3                   0.0           1.0     1.0      1.0  ...            1.0   \n",
       "4                   0.0           1.0     1.0      1.0  ...            1.0   \n",
       "\n",
       "   NoDocbcCost  GenHlth  MentHlth  PhysHlth  DiffWalk  Sex       Age  \\\n",
       "0          0.0     1.00       0.6       0.5       1.0  0.0  0.666667   \n",
       "1          1.0     0.50       0.0       0.0       0.0  0.0  0.500000   \n",
       "2          1.0     1.00       1.0       1.0       1.0  0.0  0.666667   \n",
       "3          0.0     0.25       0.0       0.0       0.0  0.0  0.833333   \n",
       "4          0.0     0.25       0.1       0.0       0.0  0.0  0.833333   \n",
       "\n",
       "   Education    Income  \n",
       "0        0.6  0.285714  \n",
       "1        1.0  0.000000  \n",
       "2        0.6  1.000000  \n",
       "3        0.4  0.714286  \n",
       "4        0.8  0.428571  \n",
       "\n",
       "[5 rows x 21 columns]"
      ]
     },
     "execution_count": 11,
     "metadata": {},
     "output_type": "execute_result"
    }
   ],
   "source": [
    "#Menampilkan data awal X\n",
    "X.head()"
   ]
  },
  {
   "cell_type": "code",
   "execution_count": 12,
   "id": "afdc215b",
   "metadata": {},
   "outputs": [
    {
     "data": {
      "text/plain": [
       "0    0.0\n",
       "1    0.0\n",
       "2    0.0\n",
       "3    0.0\n",
       "4    0.0\n",
       "Name: Diabetes_binary, dtype: float64"
      ]
     },
     "execution_count": 12,
     "metadata": {},
     "output_type": "execute_result"
    }
   ],
   "source": [
    "#Menampilkan data awal y\n",
    "y.head()"
   ]
  },
  {
   "cell_type": "markdown",
   "id": "1e3d8d8d",
   "metadata": {},
   "source": [
    "## Select KBest"
   ]
  },
  {
   "cell_type": "markdown",
   "id": "6429b4de",
   "metadata": {},
   "source": [
    "Select KBest digunakan untuk menyeleksi fitur yang kita masukkan dengan membandingkan hasil dari fitur tersebut ketika dimasukkan dalam suatu fungsi tertentu. Atau dapat diartikan juga select kbest ini digunakan untuk mengurangi fitur, sehingga yang akan digunakan adalah fitur yang sudah terseleksi saja."
   ]
  },
  {
   "cell_type": "code",
   "execution_count": 13,
   "id": "95bcf212",
   "metadata": {},
   "outputs": [],
   "source": [
    "from sklearn.feature_selection import SelectKBest\n",
    "from sklearn.feature_selection import f_classif\n",
    "from sklearn.feature_selection import chi2"
   ]
  },
  {
   "cell_type": "code",
   "execution_count": 14,
   "id": "3535270f",
   "metadata": {},
   "outputs": [],
   "source": [
    "#Tahap seleksi fitur(variabel) menggunakan select kbest\n",
    "selector = SelectKBest(score_func = f_classif, k = 10)  #k = jumlah variabel yang akan diseleksi, #f_classif untuk tipe numerik\n",
    "X_selected = selector.fit_transform(X, y)  #parameter berasal dari X dan y"
   ]
  },
  {
   "cell_type": "code",
   "execution_count": 15,
   "id": "aa365122",
   "metadata": {},
   "outputs": [
    {
     "data": {
      "text/plain": [
       "array([[1.        , 1.        , 0.3255814 , ..., 0.66666667, 0.6       ,\n",
       "        0.28571429],\n",
       "       [0.        , 0.        , 0.15116279, ..., 0.5       , 1.        ,\n",
       "        0.        ],\n",
       "       [1.        , 1.        , 0.18604651, ..., 0.66666667, 0.6       ,\n",
       "        1.        ],\n",
       "       ...,\n",
       "       [0.        , 0.        , 0.18604651, ..., 0.08333333, 0.8       ,\n",
       "        0.14285714],\n",
       "       [1.        , 0.        , 0.12790698, ..., 0.5       , 0.8       ,\n",
       "        0.        ],\n",
       "       [1.        , 1.        , 0.15116279, ..., 0.66666667, 1.        ,\n",
       "        0.14285714]])"
      ]
     },
     "execution_count": 15,
     "metadata": {},
     "output_type": "execute_result"
    }
   ],
   "source": [
    "#Menampilkan X_selected yang dalam bentuk array dan bukan data frame\n",
    "X_selected"
   ]
  },
  {
   "cell_type": "code",
   "execution_count": 72,
   "id": "c3f5c10d",
   "metadata": {},
   "outputs": [
    {
     "data": {
      "text/plain": [
       "(253680, 10)"
      ]
     },
     "execution_count": 72,
     "metadata": {},
     "output_type": "execute_result"
    }
   ],
   "source": [
    "#Melihat ukuran dataset setelah dilakukan seleksi menggunakan select kbest\n",
    "X_selected.shape"
   ]
  },
  {
   "cell_type": "code",
   "execution_count": 16,
   "id": "36b3b08a",
   "metadata": {},
   "outputs": [
    {
     "name": "stdout",
     "output_type": "stream",
     "text": [
      "Variabel terpilih:\n",
      "HighBP\n",
      "HighChol\n",
      "BMI\n",
      "HeartDiseaseorAttack\n",
      "GenHlth\n",
      "PhysHlth\n",
      "DiffWalk\n",
      "Age\n",
      "Education\n",
      "Income\n"
     ]
    }
   ],
   "source": [
    "#Menampilkan variabel terpilih yang telah diseleksi oleh select kbest\n",
    "selected_variabel = selector.get_support(indices = True) #Memasukkan nilai indeks variabel yang telah diseleksi (indices = True)\n",
    "\n",
    "print('Variabel terpilih:')\n",
    "for variabel in selected_variabel:\n",
    "    print(f'{X.columns[variabel]}')"
   ]
  },
  {
   "cell_type": "markdown",
   "id": "83b72d19",
   "metadata": {},
   "source": [
    "## Definisi Variabel Terpilih\n",
    "- HighBP = Tekanan Darah Tinggi\n",
    "- HighChol = Tingkat Kolesterol Tinggi\n",
    "- BMI = Indeks Massa Tubuh\n",
    "- HeartDiseasorAttack = Memiliki Penyakit Serangan Jantung \n",
    "- Genhlth = Memiliki Silsilah dengan Penyakit Diabetes\n",
    "- MenHlth = Kesehatan Mental\n",
    "- PhysHlth = Kecacatan fisik\n",
    "- DiffWalk = Kesulitan Berjalan\n",
    "- Age = Usia \n",
    "- Income = Pendapatan"
   ]
  },
  {
   "cell_type": "markdown",
   "id": "3277d71b",
   "metadata": {},
   "source": [
    "Dari sini kita akan mencari tau hubungan antara variabel terpilih dengan kolom 'Diabetes_binary', dimana kolom 'Diabetes_binary ini merupakan kolom yang menentukan apakah merupakan Penderita Diabetes atau bukan."
   ]
  },
  {
   "cell_type": "code",
   "execution_count": 17,
   "id": "c4e9b0f9",
   "metadata": {},
   "outputs": [],
   "source": [
    "#Membuat data frame baru menggunakan variabel yang telah diseleksi\n",
    "\n",
    "#selected_features digunakan untuk mengambil nama kolom dan di taruh di df_selected\n",
    "selected_features = X.columns[selector.get_support()]\n",
    "\n",
    "#Disini membuat 2 data frame agar tidak perlu mengembalikan nilai kategorikal ke nominal/ordinal\n",
    "data_selected = pd.DataFrame(X_selected, columns = selected_features)\n",
    "data_selected1 = pd.DataFrame(X_selected, columns = selected_features)"
   ]
  },
  {
   "cell_type": "code",
   "execution_count": 18,
   "id": "484c4066",
   "metadata": {},
   "outputs": [],
   "source": [
    "#Mengubah nilai dalam variabel terpilih agar lebih mudah mendapatkan informasi mengenai dataset diabetes\n",
    "data_selected1['HighBP'][data_selected1['HighBP'] == 0] = 'Tekanan Darah Normal'\n",
    "data_selected1['HighBP'][data_selected1['HighBP'] == 1] = 'Tekanan Darah Tinggi'\n",
    "data_selected1['HighChol'][data_selected1['HighChol'] == 0] = 'Tekanan Kolestrol Rendah'\n",
    "data_selected1['HighChol'][data_selected1['HighChol'] == 1] = 'Tekanan Kolestrol Tinggi'\n",
    "data_selected1['HeartDiseaseorAttack'][data_selected1['HeartDiseaseorAttack'] == 0] = 'Jantung Normal'\n",
    "data_selected1['HeartDiseaseorAttack'][data_selected1['HeartDiseaseorAttack'] == 1] = 'Memiliki Penyakit Jantung'\n",
    "data_selected1['DiffWalk'][data_selected1['DiffWalk'] == 0] = 'Berjalan Normal'\n",
    "data_selected1['DiffWalk'][data_selected1['DiffWalk'] == 1] = 'Kesulitan Berjalan'\n",
    "data_selected1['GenHlth'][data_selected1['GenHlth'] == 0] = 'Tidak Memiliki Silsilah Penyakit Diabetes'\n",
    "data_selected1['GenHlth'][data_selected1['GenHlth'] != 0] = 'Memiliki Silsilah Penyakit Diabetes'"
   ]
  },
  {
   "cell_type": "code",
   "execution_count": 19,
   "id": "a00bfe6d",
   "metadata": {},
   "outputs": [
    {
     "data": {
      "text/html": [
       "<div>\n",
       "<style scoped>\n",
       "    .dataframe tbody tr th:only-of-type {\n",
       "        vertical-align: middle;\n",
       "    }\n",
       "\n",
       "    .dataframe tbody tr th {\n",
       "        vertical-align: top;\n",
       "    }\n",
       "\n",
       "    .dataframe thead th {\n",
       "        text-align: right;\n",
       "    }\n",
       "</style>\n",
       "<table border=\"1\" class=\"dataframe\">\n",
       "  <thead>\n",
       "    <tr style=\"text-align: right;\">\n",
       "      <th></th>\n",
       "      <th>HighBP</th>\n",
       "      <th>HighChol</th>\n",
       "      <th>BMI</th>\n",
       "      <th>HeartDiseaseorAttack</th>\n",
       "      <th>GenHlth</th>\n",
       "      <th>PhysHlth</th>\n",
       "      <th>DiffWalk</th>\n",
       "      <th>Age</th>\n",
       "      <th>Education</th>\n",
       "      <th>Income</th>\n",
       "    </tr>\n",
       "  </thead>\n",
       "  <tbody>\n",
       "    <tr>\n",
       "      <th>0</th>\n",
       "      <td>Tekanan Darah Tinggi</td>\n",
       "      <td>Tekanan Kolestrol Tinggi</td>\n",
       "      <td>0.325581</td>\n",
       "      <td>Jantung Normal</td>\n",
       "      <td>Memiliki Silsilah Penyakit Diabetes</td>\n",
       "      <td>0.5</td>\n",
       "      <td>Kesulitan Berjalan</td>\n",
       "      <td>0.666667</td>\n",
       "      <td>0.6</td>\n",
       "      <td>0.285714</td>\n",
       "    </tr>\n",
       "    <tr>\n",
       "      <th>1</th>\n",
       "      <td>Tekanan Darah Normal</td>\n",
       "      <td>Tekanan Kolestrol Rendah</td>\n",
       "      <td>0.151163</td>\n",
       "      <td>Jantung Normal</td>\n",
       "      <td>Memiliki Silsilah Penyakit Diabetes</td>\n",
       "      <td>0.0</td>\n",
       "      <td>Berjalan Normal</td>\n",
       "      <td>0.500000</td>\n",
       "      <td>1.0</td>\n",
       "      <td>0.000000</td>\n",
       "    </tr>\n",
       "    <tr>\n",
       "      <th>2</th>\n",
       "      <td>Tekanan Darah Tinggi</td>\n",
       "      <td>Tekanan Kolestrol Tinggi</td>\n",
       "      <td>0.186047</td>\n",
       "      <td>Jantung Normal</td>\n",
       "      <td>Memiliki Silsilah Penyakit Diabetes</td>\n",
       "      <td>1.0</td>\n",
       "      <td>Kesulitan Berjalan</td>\n",
       "      <td>0.666667</td>\n",
       "      <td>0.6</td>\n",
       "      <td>1.000000</td>\n",
       "    </tr>\n",
       "    <tr>\n",
       "      <th>3</th>\n",
       "      <td>Tekanan Darah Tinggi</td>\n",
       "      <td>Tekanan Kolestrol Rendah</td>\n",
       "      <td>0.174419</td>\n",
       "      <td>Jantung Normal</td>\n",
       "      <td>Memiliki Silsilah Penyakit Diabetes</td>\n",
       "      <td>0.0</td>\n",
       "      <td>Berjalan Normal</td>\n",
       "      <td>0.833333</td>\n",
       "      <td>0.4</td>\n",
       "      <td>0.714286</td>\n",
       "    </tr>\n",
       "    <tr>\n",
       "      <th>4</th>\n",
       "      <td>Tekanan Darah Tinggi</td>\n",
       "      <td>Tekanan Kolestrol Tinggi</td>\n",
       "      <td>0.139535</td>\n",
       "      <td>Jantung Normal</td>\n",
       "      <td>Memiliki Silsilah Penyakit Diabetes</td>\n",
       "      <td>0.0</td>\n",
       "      <td>Berjalan Normal</td>\n",
       "      <td>0.833333</td>\n",
       "      <td>0.8</td>\n",
       "      <td>0.428571</td>\n",
       "    </tr>\n",
       "  </tbody>\n",
       "</table>\n",
       "</div>"
      ],
      "text/plain": [
       "                 HighBP                  HighChol       BMI  \\\n",
       "0  Tekanan Darah Tinggi  Tekanan Kolestrol Tinggi  0.325581   \n",
       "1  Tekanan Darah Normal  Tekanan Kolestrol Rendah  0.151163   \n",
       "2  Tekanan Darah Tinggi  Tekanan Kolestrol Tinggi  0.186047   \n",
       "3  Tekanan Darah Tinggi  Tekanan Kolestrol Rendah  0.174419   \n",
       "4  Tekanan Darah Tinggi  Tekanan Kolestrol Tinggi  0.139535   \n",
       "\n",
       "  HeartDiseaseorAttack                              GenHlth  PhysHlth  \\\n",
       "0       Jantung Normal  Memiliki Silsilah Penyakit Diabetes       0.5   \n",
       "1       Jantung Normal  Memiliki Silsilah Penyakit Diabetes       0.0   \n",
       "2       Jantung Normal  Memiliki Silsilah Penyakit Diabetes       1.0   \n",
       "3       Jantung Normal  Memiliki Silsilah Penyakit Diabetes       0.0   \n",
       "4       Jantung Normal  Memiliki Silsilah Penyakit Diabetes       0.0   \n",
       "\n",
       "             DiffWalk       Age  Education    Income  \n",
       "0  Kesulitan Berjalan  0.666667        0.6  0.285714  \n",
       "1     Berjalan Normal  0.500000        1.0  0.000000  \n",
       "2  Kesulitan Berjalan  0.666667        0.6  1.000000  \n",
       "3     Berjalan Normal  0.833333        0.4  0.714286  \n",
       "4     Berjalan Normal  0.833333        0.8  0.428571  "
      ]
     },
     "execution_count": 19,
     "metadata": {},
     "output_type": "execute_result"
    }
   ],
   "source": [
    "#Menampilkan data awal dari data_selected1\n",
    "data_selected1.head()"
   ]
  },
  {
   "cell_type": "code",
   "execution_count": 20,
   "id": "4686e2d8",
   "metadata": {},
   "outputs": [
    {
     "data": {
      "text/html": [
       "<div>\n",
       "<style scoped>\n",
       "    .dataframe tbody tr th:only-of-type {\n",
       "        vertical-align: middle;\n",
       "    }\n",
       "\n",
       "    .dataframe tbody tr th {\n",
       "        vertical-align: top;\n",
       "    }\n",
       "\n",
       "    .dataframe thead th {\n",
       "        text-align: right;\n",
       "    }\n",
       "</style>\n",
       "<table border=\"1\" class=\"dataframe\">\n",
       "  <thead>\n",
       "    <tr style=\"text-align: right;\">\n",
       "      <th></th>\n",
       "      <th>HighBP</th>\n",
       "      <th>HighChol</th>\n",
       "      <th>BMI</th>\n",
       "      <th>HeartDiseaseorAttack</th>\n",
       "      <th>GenHlth</th>\n",
       "      <th>PhysHlth</th>\n",
       "      <th>DiffWalk</th>\n",
       "      <th>Age</th>\n",
       "      <th>Education</th>\n",
       "      <th>Income</th>\n",
       "    </tr>\n",
       "  </thead>\n",
       "  <tbody>\n",
       "    <tr>\n",
       "      <th>253675</th>\n",
       "      <td>Tekanan Darah Tinggi</td>\n",
       "      <td>Tekanan Kolestrol Tinggi</td>\n",
       "      <td>0.383721</td>\n",
       "      <td>Jantung Normal</td>\n",
       "      <td>Memiliki Silsilah Penyakit Diabetes</td>\n",
       "      <td>0.166667</td>\n",
       "      <td>Berjalan Normal</td>\n",
       "      <td>0.333333</td>\n",
       "      <td>1.0</td>\n",
       "      <td>0.857143</td>\n",
       "    </tr>\n",
       "    <tr>\n",
       "      <th>253676</th>\n",
       "      <td>Tekanan Darah Tinggi</td>\n",
       "      <td>Tekanan Kolestrol Tinggi</td>\n",
       "      <td>0.069767</td>\n",
       "      <td>Jantung Normal</td>\n",
       "      <td>Memiliki Silsilah Penyakit Diabetes</td>\n",
       "      <td>0.000000</td>\n",
       "      <td>Kesulitan Berjalan</td>\n",
       "      <td>0.833333</td>\n",
       "      <td>0.2</td>\n",
       "      <td>0.428571</td>\n",
       "    </tr>\n",
       "    <tr>\n",
       "      <th>253677</th>\n",
       "      <td>Tekanan Darah Normal</td>\n",
       "      <td>Tekanan Kolestrol Rendah</td>\n",
       "      <td>0.186047</td>\n",
       "      <td>Jantung Normal</td>\n",
       "      <td>Memiliki Silsilah Penyakit Diabetes</td>\n",
       "      <td>0.000000</td>\n",
       "      <td>Berjalan Normal</td>\n",
       "      <td>0.083333</td>\n",
       "      <td>0.8</td>\n",
       "      <td>0.142857</td>\n",
       "    </tr>\n",
       "    <tr>\n",
       "      <th>253678</th>\n",
       "      <td>Tekanan Darah Tinggi</td>\n",
       "      <td>Tekanan Kolestrol Rendah</td>\n",
       "      <td>0.127907</td>\n",
       "      <td>Jantung Normal</td>\n",
       "      <td>Memiliki Silsilah Penyakit Diabetes</td>\n",
       "      <td>0.000000</td>\n",
       "      <td>Berjalan Normal</td>\n",
       "      <td>0.500000</td>\n",
       "      <td>0.8</td>\n",
       "      <td>0.000000</td>\n",
       "    </tr>\n",
       "    <tr>\n",
       "      <th>253679</th>\n",
       "      <td>Tekanan Darah Tinggi</td>\n",
       "      <td>Tekanan Kolestrol Tinggi</td>\n",
       "      <td>0.151163</td>\n",
       "      <td>Memiliki Penyakit Jantung</td>\n",
       "      <td>Memiliki Silsilah Penyakit Diabetes</td>\n",
       "      <td>0.000000</td>\n",
       "      <td>Berjalan Normal</td>\n",
       "      <td>0.666667</td>\n",
       "      <td>1.0</td>\n",
       "      <td>0.142857</td>\n",
       "    </tr>\n",
       "  </tbody>\n",
       "</table>\n",
       "</div>"
      ],
      "text/plain": [
       "                      HighBP                  HighChol       BMI  \\\n",
       "253675  Tekanan Darah Tinggi  Tekanan Kolestrol Tinggi  0.383721   \n",
       "253676  Tekanan Darah Tinggi  Tekanan Kolestrol Tinggi  0.069767   \n",
       "253677  Tekanan Darah Normal  Tekanan Kolestrol Rendah  0.186047   \n",
       "253678  Tekanan Darah Tinggi  Tekanan Kolestrol Rendah  0.127907   \n",
       "253679  Tekanan Darah Tinggi  Tekanan Kolestrol Tinggi  0.151163   \n",
       "\n",
       "             HeartDiseaseorAttack                              GenHlth  \\\n",
       "253675             Jantung Normal  Memiliki Silsilah Penyakit Diabetes   \n",
       "253676             Jantung Normal  Memiliki Silsilah Penyakit Diabetes   \n",
       "253677             Jantung Normal  Memiliki Silsilah Penyakit Diabetes   \n",
       "253678             Jantung Normal  Memiliki Silsilah Penyakit Diabetes   \n",
       "253679  Memiliki Penyakit Jantung  Memiliki Silsilah Penyakit Diabetes   \n",
       "\n",
       "        PhysHlth            DiffWalk       Age  Education    Income  \n",
       "253675  0.166667     Berjalan Normal  0.333333        1.0  0.857143  \n",
       "253676  0.000000  Kesulitan Berjalan  0.833333        0.2  0.428571  \n",
       "253677  0.000000     Berjalan Normal  0.083333        0.8  0.142857  \n",
       "253678  0.000000     Berjalan Normal  0.500000        0.8  0.000000  \n",
       "253679  0.000000     Berjalan Normal  0.666667        1.0  0.142857  "
      ]
     },
     "execution_count": 20,
     "metadata": {},
     "output_type": "execute_result"
    }
   ],
   "source": [
    "#Menampilkan data terakhir dari data_selected1\n",
    "data_selected1.tail()"
   ]
  },
  {
   "cell_type": "code",
   "execution_count": 21,
   "id": "d07634ef",
   "metadata": {},
   "outputs": [
    {
     "data": {
      "text/plain": [
       "Tekanan Darah Normal    136109\n",
       "Tekanan Darah Tinggi     82225\n",
       "Name: HighBP, dtype: int64"
      ]
     },
     "execution_count": 21,
     "metadata": {},
     "output_type": "execute_result"
    }
   ],
   "source": [
    "#Menampilkan jumlah nilai dari kolom HighBP berdasarkan 'Diabetes_binary' == 0\n",
    "data_selected1.HighBP[data['Diabetes_binary'] == 0].value_counts()"
   ]
  },
  {
   "cell_type": "code",
   "execution_count": 22,
   "id": "46d02faf",
   "metadata": {},
   "outputs": [
    {
     "data": {
      "text/plain": [
       "Tekanan Darah Tinggi    26604\n",
       "Tekanan Darah Normal     8742\n",
       "Name: HighBP, dtype: int64"
      ]
     },
     "execution_count": 22,
     "metadata": {},
     "output_type": "execute_result"
    }
   ],
   "source": [
    "#Menampilkan jumlah nilai dari kolom HighBP berdasarkan 'Diabetes_binary' == 1\n",
    "data_selected1.HighBP[data['Diabetes_binary'] == 1].value_counts()"
   ]
  },
  {
   "cell_type": "code",
   "execution_count": 23,
   "id": "885e98ab",
   "metadata": {},
   "outputs": [
    {
     "data": {
      "text/plain": [
       "<AxesSubplot:title={'center':'Tekanan Darah Penderita Diabetes'}>"
      ]
     },
     "execution_count": 23,
     "metadata": {},
     "output_type": "execute_result"
    },
    {
     "data": {
      "image/png": "[encoded data removed]",
      "text/plain": [
       "<Figure size 640x480 with 1 Axes>"
      ]
     },
     "metadata": {},
     "output_type": "display_data"
    }
   ],
   "source": [
    "#Membuat histogram dari kolom HighBP berdasarkan 'Diabetes_binary' == 1\n",
    "data_selected1.HighBP[data['Diabetes_binary'] == 1].value_counts().plot(kind = 'bar', title = 'Tekanan Darah Penderita Diabetes')"
   ]
  },
  {
   "cell_type": "markdown",
   "id": "099a8e59",
   "metadata": {},
   "source": [
    "#### Penderita diabetes cenderung memiliki tekanan darah tinggi, hal ini dapat dilihat dari histogram diatas. Jika kita amati lagi, kasus dimana penderita diabetes (Diabetes_binary == 1) dengan riwayat tekanan darah tinggi mencapai lebih dari 25000."
   ]
  },
  {
   "cell_type": "code",
   "execution_count": 24,
   "id": "1d4f81a4",
   "metadata": {},
   "outputs": [
    {
     "data": {
      "text/plain": [
       "Tekanan Kolestrol Rendah    134429\n",
       "Tekanan Kolestrol Tinggi     83905\n",
       "Name: HighChol, dtype: int64"
      ]
     },
     "execution_count": 24,
     "metadata": {},
     "output_type": "execute_result"
    }
   ],
   "source": [
    "#Menampilkan jumlah nilai dari kolom HighChol berdasarkan 'Diabetes_binary' == 0\n",
    "data_selected1.HighChol[data['Diabetes_binary'] == 0].value_counts()"
   ]
  },
  {
   "cell_type": "code",
   "execution_count": 25,
   "id": "c7c97ae8",
   "metadata": {},
   "outputs": [
    {
     "data": {
      "text/plain": [
       "Tekanan Kolestrol Tinggi    23686\n",
       "Tekanan Kolestrol Rendah    11660\n",
       "Name: HighChol, dtype: int64"
      ]
     },
     "execution_count": 25,
     "metadata": {},
     "output_type": "execute_result"
    }
   ],
   "source": [
    "#Menampilkan jumlah nilai dari kolom HighChol berdasarkan 'Diabetes_binary' == 1\n",
    "data_selected1.HighChol[data['Diabetes_binary'] == 1].value_counts()"
   ]
  },
  {
   "cell_type": "code",
   "execution_count": 26,
   "id": "58e29e06",
   "metadata": {},
   "outputs": [
    {
     "data": {
      "text/plain": [
       "<AxesSubplot:title={'center':'Tingkat Kolestrol Penderita Diabetes'}>"
      ]
     },
     "execution_count": 26,
     "metadata": {},
     "output_type": "execute_result"
    },
    {
     "data": {
      "image/png": "[encoded data removed]",
      "text/plain": [
       "<Figure size 640x480 with 1 Axes>"
      ]
     },
     "metadata": {},
     "output_type": "display_data"
    }
   ],
   "source": [
    "#Membuat histogram dari kolom HighChol berdasarkan 'Diabetes_binary' == 1\n",
    "data_selected1.HighChol[data['Diabetes_binary'] == 1].value_counts().plot(kind = 'bar', title = 'Tingkat Kolestrol Penderita Diabetes')"
   ]
  },
  {
   "cell_type": "markdown",
   "id": "93d8f9bb",
   "metadata": {},
   "source": [
    "#### Seseorang dengan tingkat kolestrol yang tinggi cenderung memiliki risiko dua kali lipat untuk terkena penyakit diabetes. Berdasarkan histogram di atas, kasus dimana tekanan kolestrol tinggi dengan diabetes_binary == 1 mencapai lebih dari 20000."
   ]
  },
  {
   "cell_type": "code",
   "execution_count": 27,
   "id": "27260045",
   "metadata": {
    "scrolled": true
   },
   "outputs": [
    {
     "data": {
      "text/plain": [
       "Jantung Normal               202319\n",
       "Memiliki Penyakit Jantung     16015\n",
       "Name: HeartDiseaseorAttack, dtype: int64"
      ]
     },
     "execution_count": 27,
     "metadata": {},
     "output_type": "execute_result"
    }
   ],
   "source": [
    "#Menampilkan jumlah nilai dari kolom HeartDiseaseorAttack berdasarkan 'Diabetes_binary' == 0\n",
    "data_selected1.HeartDiseaseorAttack[data['Diabetes_binary'] == 0].value_counts()"
   ]
  },
  {
   "cell_type": "code",
   "execution_count": 28,
   "id": "c3b0f082",
   "metadata": {
    "scrolled": true
   },
   "outputs": [
    {
     "data": {
      "text/plain": [
       "Jantung Normal               27468\n",
       "Memiliki Penyakit Jantung     7878\n",
       "Name: HeartDiseaseorAttack, dtype: int64"
      ]
     },
     "execution_count": 28,
     "metadata": {},
     "output_type": "execute_result"
    }
   ],
   "source": [
    "#Menampilkan jumlah nilai dari kolom HeartDiseaseorAttack berdasarkan 'Diabetes_binary' == 1\n",
    "data_selected1.HeartDiseaseorAttack[data['Diabetes_binary'] == 1].value_counts()"
   ]
  },
  {
   "cell_type": "code",
   "execution_count": 29,
   "id": "35588a6b",
   "metadata": {},
   "outputs": [
    {
     "data": {
      "text/plain": [
       "<AxesSubplot:title={'center':'Kondisi Jantung Penderita Diabetes'}>"
      ]
     },
     "execution_count": 29,
     "metadata": {},
     "output_type": "execute_result"
    },
    {
     "data": {
      "image/png": "[encoded data removed]",
      "text/plain": [
       "<Figure size 640x480 with 1 Axes>"
      ]
     },
     "metadata": {},
     "output_type": "display_data"
    }
   ],
   "source": [
    "#Membuat histogram dari kolom HeartDiseaseorAttack berdasarkan 'Diabetes_binary' == 1\n",
    "data_selected1.HeartDiseaseorAttack[data['Diabetes_binary'] == 1].value_counts().plot(kind = 'bar', title = 'Kondisi Jantung Penderita Diabetes')"
   ]
  },
  {
   "cell_type": "markdown",
   "id": "277f366c",
   "metadata": {},
   "source": [
    "#### Penyakit diabetes memicu adanya penyakit serangan jantung. Namun berdasarkan data di atas, kebanyakan tidak memiliki penyakit jantung (Jantung normal)."
   ]
  },
  {
   "cell_type": "code",
   "execution_count": 30,
   "id": "73704c6f",
   "metadata": {},
   "outputs": [
    {
     "data": {
      "text/plain": [
       "Berjalan Normal       188780\n",
       "Kesulitan Berjalan     29554\n",
       "Name: DiffWalk, dtype: int64"
      ]
     },
     "execution_count": 30,
     "metadata": {},
     "output_type": "execute_result"
    }
   ],
   "source": [
    "#Menampilkan jumlah nilai dari kolom DiffWalk berdasarkan 'Diabetes_binary' == 0\n",
    "data_selected1.DiffWalk[data['Diabetes_binary'] == 0].value_counts()"
   ]
  },
  {
   "cell_type": "code",
   "execution_count": 31,
   "id": "f50d2da5",
   "metadata": {},
   "outputs": [
    {
     "data": {
      "text/plain": [
       "Berjalan Normal       22225\n",
       "Kesulitan Berjalan    13121\n",
       "Name: DiffWalk, dtype: int64"
      ]
     },
     "execution_count": 31,
     "metadata": {},
     "output_type": "execute_result"
    }
   ],
   "source": [
    "#Menampilkan jumlah nilai dari kolom DiffWalk berdasarkan 'Diabetes_binary' == 1\n",
    "data_selected1.DiffWalk[data['Diabetes_binary'] == 1].value_counts()"
   ]
  },
  {
   "cell_type": "code",
   "execution_count": 32,
   "id": "9bd51224",
   "metadata": {},
   "outputs": [
    {
     "data": {
      "text/plain": [
       "<AxesSubplot:title={'center':'Kondisi Berjalan Penderita Diabetes'}>"
      ]
     },
     "execution_count": 32,
     "metadata": {},
     "output_type": "execute_result"
    },
    {
     "data": {
      "image/png": "[encoded data removed]",
      "text/plain": [
       "<Figure size 640x480 with 1 Axes>"
      ]
     },
     "metadata": {},
     "output_type": "display_data"
    }
   ],
   "source": [
    "#Membuat histogram dari kolom DiffWalk berdasarkan 'Diabetes_binary' == 1\n",
    "data_selected1.DiffWalk[data['Diabetes_binary'] == 1].value_counts().plot(kind = 'bar', title = 'Kondisi Berjalan Penderita Diabetes')"
   ]
  },
  {
   "cell_type": "markdown",
   "id": "1a7564b5",
   "metadata": {},
   "source": [
    "#### Penderita diabetes memiliki kadar gula darah yang tinggi, hal tersebut dapat mengakibatkan kerusakan pada serabut saraf di seluruh tubuh, seperti kaki. Sehingga seseorang dengan riwayat penyakit diabetes juga dapat mengalami kesulitan berjalan. Berdasarkan data di atas, kondisi berjalan penderita diabetes kebanyakan tidak memiliki masalah kesulitan berjalan atau dapat berjalan normal."
   ]
  },
  {
   "cell_type": "code",
   "execution_count": 33,
   "id": "1b7843e0",
   "metadata": {},
   "outputs": [
    {
     "data": {
      "text/plain": [
       "Memiliki Silsilah Penyakit Diabetes    218334\n",
       "Name: GenHlth, dtype: int64"
      ]
     },
     "execution_count": 33,
     "metadata": {},
     "output_type": "execute_result"
    }
   ],
   "source": [
    "#Menampilkan jumlah nilai dari kolom GenHlth berdasarkan 'Diabetes_binary' == 0\n",
    "data_selected1.GenHlth[data['Diabetes_binary'] == 0].value_counts()"
   ]
  },
  {
   "cell_type": "code",
   "execution_count": 34,
   "id": "0c20f61a",
   "metadata": {},
   "outputs": [
    {
     "data": {
      "text/plain": [
       "Memiliki Silsilah Penyakit Diabetes    35346\n",
       "Name: GenHlth, dtype: int64"
      ]
     },
     "execution_count": 34,
     "metadata": {},
     "output_type": "execute_result"
    }
   ],
   "source": [
    "#Menampilkan jumlah nilai dari kolom GenHlth berdasarkan 'Diabetes_binary' == 1\n",
    "data_selected1.GenHlth[data['Diabetes_binary'] == 1].value_counts()"
   ]
  },
  {
   "cell_type": "code",
   "execution_count": 35,
   "id": "bd139e35",
   "metadata": {},
   "outputs": [
    {
     "data": {
      "text/plain": [
       "<AxesSubplot:title={'center':'Silsilah Penderita Diabetes'}>"
      ]
     },
     "execution_count": 35,
     "metadata": {},
     "output_type": "execute_result"
    },
    {
     "data": {
      "image/png": "[encoded data removed]",
      "text/plain": [
       "<Figure size 640x480 with 1 Axes>"
      ]
     },
     "metadata": {},
     "output_type": "display_data"
    }
   ],
   "source": [
    "#Membuat histogram dari kolom GenHlth berdasarkan 'Diabetes_binary' == 1\n",
    "data_selected1.GenHlth[data['Diabetes_binary'] == 1].value_counts().plot(kind = 'bar', title = 'Silsilah Penderita Diabetes')"
   ]
  },
  {
   "cell_type": "markdown",
   "id": "2ce11408",
   "metadata": {},
   "source": [
    "####  Hal utama yang saat ini menjadi masalah bagi penderita penyakit diabetes adalah Sisilah atau keturunan, dari data yang ada para penderita diabetes mempunya keturunan yang mewarisi penyakit tersebut, sehingga dapat dikatakan pada data ini ditunjukan bahwa penderita diabetes memiliki hubungan yang erat dengan silsilah atau keturunan penyakit."
   ]
  },
  {
   "cell_type": "markdown",
   "id": "9eb368e0",
   "metadata": {},
   "source": [
    "### Berdasarkan data understanding yang dilakukan diatas, kami mengasumsikan bahwa 'Diabetes_binary' == 1 itu artinya merupakan penderita penyakit diabetes. Dan 'Diabetes_binary' == 0 artinya bukan penderita penyakit diabetes."
   ]
  },
  {
   "cell_type": "markdown",
   "id": "95e09700",
   "metadata": {},
   "source": [
    "# Split dan Test Data"
   ]
  },
  {
   "cell_type": "markdown",
   "id": "1f6516af",
   "metadata": {},
   "source": [
    "Memisahkan data training dan data test, dengan menggunakan variabel yang telah diseleksi (x_selected)."
   ]
  },
  {
   "cell_type": "code",
   "execution_count": 36,
   "id": "6d5b6794",
   "metadata": {},
   "outputs": [],
   "source": [
    "from sklearn.model_selection import train_test_split"
   ]
  },
  {
   "cell_type": "code",
   "execution_count": 37,
   "id": "29aaaaf9",
   "metadata": {},
   "outputs": [],
   "source": [
    "#Melakukan split data menggunakan X_train, X_test, y_train, y_test, \n",
    "#lalu diambil data secara random untuk di test sebesar 30% dari dataset\n",
    "X_train, X_test, y_train, y_test = train_test_split(X_selected, y, test_size = 0.3, random_state = 0)"
   ]
  },
  {
   "cell_type": "code",
   "execution_count": 38,
   "id": "41fd32ff",
   "metadata": {},
   "outputs": [
    {
     "data": {
      "text/plain": [
       "(177576, 76104)"
      ]
     },
     "execution_count": 38,
     "metadata": {},
     "output_type": "execute_result"
    }
   ],
   "source": [
    "#Menghitung banyaknya karakter dalam suatu data\n",
    "len(X_train), len(X_test)"
   ]
  },
  {
   "cell_type": "code",
   "execution_count": 39,
   "id": "00d47452",
   "metadata": {},
   "outputs": [
    {
     "data": {
      "text/plain": [
       "(177576, 76104)"
      ]
     },
     "execution_count": 39,
     "metadata": {},
     "output_type": "execute_result"
    }
   ],
   "source": [
    "#Menghitung banyaknya karakter dalam suatu data\n",
    "len(y_train), len(y_test)"
   ]
  },
  {
   "cell_type": "markdown",
   "id": "fadf6e78",
   "metadata": {},
   "source": [
    "# Data Modelling"
   ]
  },
  {
   "cell_type": "markdown",
   "id": "e01e681d",
   "metadata": {},
   "source": [
    "Data modelling digunakan untuk mengetahui metode yang akan digunakan pada eksekui data. Karena data yang digunakan di sini sangatlah besar, maka beberapa metode mungkin membutuhkan waktu yang lama untuk mengeksekusi. Sehingga, kami hanya akan menggunakan beberapa metode saja, yaitu:\n",
    "- Regresi Logistik, meskipun metode ini tidak secara khusus dirancang untuk mengatasi pencilan, namun dalam kasus klasifikasi biner metode ini dapat menangani dataset dalam jumlah yang besar.\n",
    "- K-Near Neighbor, metode ini dapat meminimumkan data pencilan dikarenakan cara kerjanya adalah memprediksi label berdasarkan mayoritas label.\n",
    "- Decision Tree,metode ini merupakan metode klasifikasi dengan pengambilan keputusan yang menyusun opsi dalam bentuk cabang (pohon keputusan).\n",
    "- Random forest, metode ini termasuk kedalam metode ensamble learning dimana menggaungkan pohon keputusan yang ada dengan cara bagging dan selection fitur, metode ini dapat mengatasi pencilan."
   ]
  },
  {
   "cell_type": "markdown",
   "id": "51844768",
   "metadata": {},
   "source": [
    "# Support Vector Machine (SVM)"
   ]
  },
  {
   "cell_type": "markdown",
   "id": "8aa479ac",
   "metadata": {},
   "source": [
    "Support Vector Machine (SVM) adalah metode yang dilakukan untuk klasifikasi."
   ]
  },
  {
   "cell_type": "code",
   "execution_count": 40,
   "id": "429f914a",
   "metadata": {},
   "outputs": [],
   "source": [
    "from sklearn.svm import SVC"
   ]
  },
  {
   "cell_type": "code",
   "execution_count": 41,
   "id": "4d67f981",
   "metadata": {},
   "outputs": [],
   "source": [
    "model_svm = SVC()"
   ]
  },
  {
   "cell_type": "code",
   "execution_count": 42,
   "id": "64fecbe1",
   "metadata": {},
   "outputs": [],
   "source": [
    "#model_svm.fit(X_train, y_train)"
   ]
  },
  {
   "cell_type": "markdown",
   "id": "4e99bed2",
   "metadata": {},
   "source": [
    "### Metode dengan menggunakan SVM tidak dapat digunakan karena terdapat batasan dalam jumlah dimensinya yang terlalu besar, sehingga metode ini tidak disarankan untuk digunakan."
   ]
  },
  {
   "cell_type": "markdown",
   "id": "d7067863",
   "metadata": {},
   "source": [
    "# Logistic Regression"
   ]
  },
  {
   "cell_type": "markdown",
   "id": "37aec54b",
   "metadata": {},
   "source": [
    "Logistic Regression adalah metode yang digunakan untuk memprediksi nilai binary."
   ]
  },
  {
   "cell_type": "code",
   "execution_count": 43,
   "id": "7c86c884",
   "metadata": {},
   "outputs": [],
   "source": [
    "from sklearn.linear_model import LogisticRegression"
   ]
  },
  {
   "cell_type": "code",
   "execution_count": 44,
   "id": "32563774",
   "metadata": {},
   "outputs": [],
   "source": [
    "model_lr = LogisticRegression()"
   ]
  },
  {
   "cell_type": "code",
   "execution_count": 45,
   "id": "41990e82",
   "metadata": {},
   "outputs": [
    {
     "data": {
      "text/plain": [
       "LogisticRegression()"
      ]
     },
     "execution_count": 45,
     "metadata": {},
     "output_type": "execute_result"
    }
   ],
   "source": [
    "model_lr.fit(X_train, y_train)"
   ]
  },
  {
   "cell_type": "code",
   "execution_count": 46,
   "id": "d5ed3864",
   "metadata": {},
   "outputs": [
    {
     "data": {
      "text/plain": [
       "0.8631215179228424"
      ]
     },
     "execution_count": 46,
     "metadata": {},
     "output_type": "execute_result"
    }
   ],
   "source": [
    "model_lr.score(X_test, y_test)"
   ]
  },
  {
   "cell_type": "markdown",
   "id": "8a667f98",
   "metadata": {},
   "source": [
    "# KFold Logistic Regression"
   ]
  },
  {
   "cell_type": "markdown",
   "id": "a9b3034c",
   "metadata": {},
   "source": [
    "KFold adalah teknik yang digunakan untuk mengecek kevalidasian/keakuratan dari suatu model. Disini akan dicek keakuratan dari model berdasarkan metode Logistic Regression."
   ]
  },
  {
   "cell_type": "code",
   "execution_count": 47,
   "id": "ddd94ecd",
   "metadata": {},
   "outputs": [],
   "source": [
    "from sklearn.model_selection import KFold\n",
    "from sklearn.model_selection import cross_val_score\n",
    "k_fold = KFold(n_splits = 10, shuffle = True, random_state = 0)"
   ]
  },
  {
   "cell_type": "code",
   "execution_count": 48,
   "id": "28d4dbc6",
   "metadata": {},
   "outputs": [
    {
     "name": "stdout",
     "output_type": "stream",
     "text": [
      "[0.86297698 0.86116367 0.86475087 0.86112425 0.85970514 0.86210974\n",
      " 0.86743141 0.86159729 0.86415957 0.86380479]\n"
     ]
    }
   ],
   "source": [
    "score_lr = cross_val_score(model_lr, X_selected, y, cv = k_fold, n_jobs = 1, scoring = 'accuracy')\n",
    "print(score_lr)"
   ]
  },
  {
   "cell_type": "code",
   "execution_count": 49,
   "id": "7ecc83c7",
   "metadata": {},
   "outputs": [
    {
     "data": {
      "text/plain": [
       "86.2882371491643"
      ]
     },
     "execution_count": 49,
     "metadata": {},
     "output_type": "execute_result"
    }
   ],
   "source": [
    "score_lr.mean() * 100"
   ]
  },
  {
   "cell_type": "markdown",
   "id": "c1f94084",
   "metadata": {},
   "source": [
    "### Metode Regresi Logistik memiliki tingkat akurasi sebesar 86%, dan setelah di evaluasi menggunakan KFold akurasinya pun tetap 86%. Artinya model ini sangat baik dalam memodelkan data diabates2."
   ]
  },
  {
   "cell_type": "markdown",
   "id": "51f592a4",
   "metadata": {},
   "source": [
    "# K-Nearest Neighbors (KNN)"
   ]
  },
  {
   "cell_type": "markdown",
   "id": "deea7100",
   "metadata": {},
   "source": [
    "K-Nearest Neighbors (KNN) adalah sebuah metode yang digunakan untuk mengklasifikasikan suatu objek berdasarkan atribut dan sampel dari data training."
   ]
  },
  {
   "cell_type": "code",
   "execution_count": 50,
   "id": "7cefa682",
   "metadata": {},
   "outputs": [],
   "source": [
    "X = np.concatenate((X_train, X_test), axis = 0)\n",
    "y = np.concatenate((y_train, y_test), axis = 0)"
   ]
  },
  {
   "cell_type": "code",
   "execution_count": 51,
   "id": "37b4b3a1",
   "metadata": {},
   "outputs": [],
   "source": [
    "#Untuk mereduksi baris/kolom, untuk menggabungkan beberapa variabel menjadi 1 atau 2 variabel\n",
    "from sklearn.decomposition import PCA"
   ]
  },
  {
   "cell_type": "code",
   "execution_count": 52,
   "id": "1aa30a16",
   "metadata": {},
   "outputs": [],
   "source": [
    "#Kekurangan dari PCA yaitu dalam penamaan variabelnya\n",
    "pca = PCA(n_components = 2)   #n_components = menggabungkan menjadi 2 komponen\n",
    "\n",
    "X_reduced = pca.fit_transform(X)\n",
    "\n",
    "#Mereduksi sebanyak jumlah data X_train, memisahkan data X_train dari data yang telah direduksi\n",
    "X_train_reduced = X_reduced[:len(X_train)]\n",
    "\n",
    "#Mereduksi data setelah data X_train, memisahkan data X_test dari data yang telah direduksi\n",
    "X_test_reduced = X_reduced[len(X_train):]"
   ]
  },
  {
   "cell_type": "code",
   "execution_count": 53,
   "id": "c1e001ea",
   "metadata": {},
   "outputs": [],
   "source": [
    "from sklearn.neighbors import KNeighborsClassifier"
   ]
  },
  {
   "cell_type": "code",
   "execution_count": 54,
   "id": "30c9e0ab",
   "metadata": {},
   "outputs": [
    {
     "data": {
      "text/plain": [
       "KNeighborsClassifier(n_neighbors=3)"
      ]
     },
     "execution_count": 54,
     "metadata": {},
     "output_type": "execute_result"
    }
   ],
   "source": [
    "model_knn = KNeighborsClassifier(n_neighbors = 3)\n",
    "model_knn.fit(X_train_reduced, y_train)"
   ]
  },
  {
   "cell_type": "code",
   "execution_count": 55,
   "id": "b62b64bd",
   "metadata": {},
   "outputs": [
    {
     "data": {
      "text/plain": [
       "0.834581625144539"
      ]
     },
     "execution_count": 55,
     "metadata": {},
     "output_type": "execute_result"
    }
   ],
   "source": [
    "model_knn.score(X_test_reduced, y_test)"
   ]
  },
  {
   "cell_type": "markdown",
   "id": "0983ca61",
   "metadata": {},
   "source": [
    "### Visualisasi"
   ]
  },
  {
   "cell_type": "code",
   "execution_count": 56,
   "id": "7968c739",
   "metadata": {},
   "outputs": [
    {
     "data": {
      "image/png": "[encoded data removed]",
      "text/plain": [
       "<Figure size 640x480 with 1 Axes>"
      ]
     },
     "metadata": {},
     "output_type": "display_data"
    }
   ],
   "source": [
    "y_test_pred = model_knn.predict(X_test_reduced)\n",
    "\n",
    "#Melakukan visualisasi KNN menggunakan scatter plot\n",
    "plt.scatter(X_test_reduced[:, 0], X_test_reduced[:, 1], c = y_test_pred)   #c = nilai benar/salah\n",
    "plt.xlabel('Component 1')\n",
    "plt.ylabel('Component 2')\n",
    "plt.title('Visualisasi KNN dengan PCA (Data Uji)')\n",
    "plt.show()"
   ]
  },
  {
   "cell_type": "markdown",
   "id": "1db8aab4",
   "metadata": {},
   "source": [
    "#### Di sini divisualisasikan KNN menggunakan PCA (data uji), namun sulit untuk dilakukan interpretasi karena datanya tumpang tindih dan penamaan variabel yang hanya menggunakan Component 1 dan 2 (karena menggunakan PCA)."
   ]
  },
  {
   "cell_type": "markdown",
   "id": "e841ef74",
   "metadata": {},
   "source": [
    "# KFold KNN"
   ]
  },
  {
   "cell_type": "markdown",
   "id": "2d2f21b3",
   "metadata": {},
   "source": [
    "KFold adalah teknik yang digunakan untuk mengecek kevalidasian/keakuratan dari suatu model. Disini akan dicek keakuratan dari model berdasarkan metode K_Nearest Neighbors (KNN)."
   ]
  },
  {
   "cell_type": "code",
   "execution_count": 57,
   "id": "cef8d672",
   "metadata": {
    "scrolled": true
   },
   "outputs": [
    {
     "name": "stdout",
     "output_type": "stream",
     "text": [
      "[0.82111321 0.81937874 0.81918165 0.8266714  0.82769631 0.82142857\n",
      " 0.81882687 0.82020656 0.82383318 0.82209871]\n"
     ]
    }
   ],
   "source": [
    "score_knn = cross_val_score(model_knn, X_selected, y, cv = k_fold, n_jobs = 1, scoring = 'accuracy')\n",
    "print(score_knn)"
   ]
  },
  {
   "cell_type": "code",
   "execution_count": 58,
   "id": "2eb4624b",
   "metadata": {},
   "outputs": [
    {
     "data": {
      "text/plain": [
       "82.20435193945129"
      ]
     },
     "execution_count": 58,
     "metadata": {},
     "output_type": "execute_result"
    }
   ],
   "source": [
    "score_knn.mean() * 100"
   ]
  },
  {
   "cell_type": "markdown",
   "id": "1895e3eb",
   "metadata": {},
   "source": [
    "### Model KNN memiliki tingkat akurasi sebesar 83%, dan setelah dievaluasi menggunakan KFold tingkat akurasinya menjadi 82%. Yang artinya, model ini tergolong cukup baik dalam memodelkan data diabetes2.."
   ]
  },
  {
   "cell_type": "markdown",
   "id": "a0b966ce",
   "metadata": {},
   "source": [
    "# Decision Tree"
   ]
  },
  {
   "cell_type": "markdown",
   "id": "6288350a",
   "metadata": {},
   "source": [
    "Decision Tree adalah metode klasifikasi dengan pengambilan keputusan yang menyusun opsi dalam bentuk cabang."
   ]
  },
  {
   "cell_type": "code",
   "execution_count": 59,
   "id": "c18e97e1",
   "metadata": {},
   "outputs": [],
   "source": [
    "from sklearn.tree import DecisionTreeClassifier"
   ]
  },
  {
   "cell_type": "code",
   "execution_count": 60,
   "id": "3ba46835",
   "metadata": {},
   "outputs": [],
   "source": [
    "model_dt = DecisionTreeClassifier()"
   ]
  },
  {
   "cell_type": "code",
   "execution_count": 61,
   "id": "f21bacac",
   "metadata": {},
   "outputs": [
    {
     "data": {
      "text/plain": [
       "DecisionTreeClassifier()"
      ]
     },
     "execution_count": 61,
     "metadata": {},
     "output_type": "execute_result"
    }
   ],
   "source": [
    "model_dt.fit(X_train, y_train)"
   ]
  },
  {
   "cell_type": "code",
   "execution_count": 62,
   "id": "7714ac7f",
   "metadata": {},
   "outputs": [
    {
     "data": {
      "text/plain": [
       "0.8164879638389572"
      ]
     },
     "execution_count": 62,
     "metadata": {},
     "output_type": "execute_result"
    }
   ],
   "source": [
    "model_dt.score(X_test, y_test)"
   ]
  },
  {
   "cell_type": "markdown",
   "id": "7964e782",
   "metadata": {},
   "source": [
    "# KFold Decision Tree"
   ]
  },
  {
   "cell_type": "markdown",
   "id": "27fac7d2",
   "metadata": {},
   "source": [
    "KFold adalah teknik yang digunakan untuk mengecek kevalidasian/keakuratan dari suatu model. Disini akan dicek keakuratan dari model berdasarkan metode Decision Tree."
   ]
  },
  {
   "cell_type": "code",
   "execution_count": 63,
   "id": "72749f86",
   "metadata": {},
   "outputs": [
    {
     "name": "stdout",
     "output_type": "stream",
     "text": [
      "[0.79375591 0.7929281  0.7899322  0.79549038 0.79257332 0.79261274\n",
      " 0.79391359 0.79738253 0.79150899 0.79249448]\n"
     ]
    }
   ],
   "source": [
    "score_dt = cross_val_score(model_dt, X_selected, y, cv = k_fold, n_jobs = 1,  scoring = 'accuracy')\n",
    "print(score_dt)"
   ]
  },
  {
   "cell_type": "code",
   "execution_count": 64,
   "id": "316f1c8d",
   "metadata": {},
   "outputs": [
    {
     "data": {
      "text/plain": [
       "79.32592242194892"
      ]
     },
     "execution_count": 64,
     "metadata": {},
     "output_type": "execute_result"
    }
   ],
   "source": [
    "score_dt.mean() * 100"
   ]
  },
  {
   "cell_type": "markdown",
   "id": "8d00934e",
   "metadata": {},
   "source": [
    "### Decision Tree memiliki tingkat akurasi 81%, dan setelah dilakukan evaluasi tingkat akurasinya menjadi 79%."
   ]
  },
  {
   "cell_type": "markdown",
   "id": "ccd23a15",
   "metadata": {},
   "source": [
    "# Random Forest"
   ]
  },
  {
   "cell_type": "markdown",
   "id": "ed7b3bda",
   "metadata": {},
   "source": [
    "Random forest adalah peningkatan dari decision tree, dimana kumpulan pembentukan pohon pohon yg setiap pohonnya disertai bagging dan random selection fitur.\n",
    "- Bagging adalah penggabungan algoritma pembelajaran mesin ( machine learning) yang dirancang untuk meningkatkan stabilitas dan akurasi dari algoritma machine learning yang digunakan dalam klasifikasi statistik dan regresi. Bagging juga mengurangi varians dan membantu untuk menghindari terjadinya overfitting.\n",
    "- Random selection fitur digunakan untuk menyeleksi variabel secara random"
   ]
  },
  {
   "cell_type": "code",
   "execution_count": 65,
   "id": "4f9c5a22",
   "metadata": {},
   "outputs": [],
   "source": [
    "from sklearn.ensemble import RandomForestClassifier"
   ]
  },
  {
   "cell_type": "code",
   "execution_count": 66,
   "id": "a5185a1a",
   "metadata": {},
   "outputs": [],
   "source": [
    "model_rf = RandomForestClassifier()"
   ]
  },
  {
   "cell_type": "code",
   "execution_count": 67,
   "id": "b2ad012b",
   "metadata": {},
   "outputs": [
    {
     "data": {
      "text/plain": [
       "RandomForestClassifier()"
      ]
     },
     "execution_count": 67,
     "metadata": {},
     "output_type": "execute_result"
    }
   ],
   "source": [
    "model_rf.fit(X_train, y_train)"
   ]
  },
  {
   "cell_type": "code",
   "execution_count": 68,
   "id": "37f92006",
   "metadata": {},
   "outputs": [
    {
     "data": {
      "text/plain": [
       "0.8478529380847262"
      ]
     },
     "execution_count": 68,
     "metadata": {},
     "output_type": "execute_result"
    }
   ],
   "source": [
    "model_rf.score(X_test, y_test)"
   ]
  },
  {
   "cell_type": "markdown",
   "id": "18eb81d6",
   "metadata": {},
   "source": [
    "# KFold Random Forest"
   ]
  },
  {
   "cell_type": "markdown",
   "id": "6cd6c8c7",
   "metadata": {},
   "source": [
    "KFold adalah teknik yang digunakan untuk mengecek kevalidasian/keakuratan dari suatu model. Disini akan dicek keakuratan dari model berdasarkan metode Random Forest."
   ]
  },
  {
   "cell_type": "code",
   "execution_count": 69,
   "id": "3be5915d",
   "metadata": {},
   "outputs": [
    {
     "name": "stdout",
     "output_type": "stream",
     "text": [
      "[0.84015295 0.83857616 0.83739357 0.84610533 0.84377956 0.84141438\n",
      " 0.83920687 0.84102018 0.84287291 0.84180858]\n"
     ]
    }
   ],
   "source": [
    "score_rf = cross_val_score(model_rf, X_selected, y, cv = k_fold, n_jobs = 1, scoring = 'accuracy')\n",
    "print(score_rf)"
   ]
  },
  {
   "cell_type": "code",
   "execution_count": 70,
   "id": "6fd7a98b",
   "metadata": {},
   "outputs": [
    {
     "data": {
      "text/plain": [
       "84.12330495111952"
      ]
     },
     "execution_count": 70,
     "metadata": {},
     "output_type": "execute_result"
    }
   ],
   "source": [
    "score_rf.mean() * 100"
   ]
  },
  {
   "cell_type": "markdown",
   "id": "c0535225",
   "metadata": {},
   "source": [
    "### Random Forest memiliki tingkat akurasi 84%, dan setelah dievaluasi tingkat akurasi tetap sebesar 84%, sehingga tingkat akurasi hanya berubah di belakang koma saja."
   ]
  },
  {
   "cell_type": "markdown",
   "id": "33bd887e",
   "metadata": {},
   "source": [
    "### Metode Decision Tree dan Random Forest juga dapat memodelkan data dengan baik, namun model ini memiliki waktu eksekusi yang cukup lama."
   ]
  },
  {
   "cell_type": "markdown",
   "id": "5859208f",
   "metadata": {},
   "source": [
    "## Kesimpulan:\n",
    "## Dari metode-metode yang kami gunakan, metode Regresi Logistik merupakan metode yang memiliki tingkat akurasi paling tinggi diantara metode lainnya, yaitu sebesar 86%. Sehingga dapat diakatan bahwa metode Regresi Logistik dapat mengklasifikasikan kasus dengan data diabetes2 ini secara baik."
   ]
  },
  {
   "cell_type": "code",
   "execution_count": null,
   "id": "2cdbcdc5",
   "metadata": {},
   "outputs": [],
   "source": []
  }
 ],
 "metadata": {
  "kernelspec": {
   "display_name": "Python 3 (ipykernel)",
   "language": "python",
   "name": "python3"
  },
  "language_info": {
   "codemirror_mode": {
    "name": "ipython",
    "version": 3
   },
   "file_extension": ".py",
   "mimetype": "text/x-python",
   "name": "python",
   "nbconvert_exporter": "python",
   "pygments_lexer": "ipython3",
   "version": "3.9.13"
  }
 },
 "nbformat": 4,
 "nbformat_minor": 5
}
